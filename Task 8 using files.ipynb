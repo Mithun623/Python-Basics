{
 "cells": [
  {
   "cell_type": "code",
   "execution_count": 1,
   "id": "866202b3",
   "metadata": {},
   "outputs": [
    {
     "name": "stdout",
     "output_type": "stream",
     "text": [
      "my first file\n",
      "This file\n",
      "\n",
      "contains three lines\n",
      "\n"
     ]
    }
   ],
   "source": [
    "f=open(\"test.txt\")\n",
    "print(f.read())\n",
    "f.close()\n",
    "with open(\"test.txt\",'w',encoding='utf-8')as f:\n",
    "    f.write(\"my first file\\n\")\n",
    "    f.write(\"This file\\n\\n\")\n",
    "    f.write(\"contains three lines\\n\")"
   ]
  },
  {
   "cell_type": "code",
   "execution_count": 3,
   "id": "bf5efa3d",
   "metadata": {},
   "outputs": [],
   "source": [
    "fin = open(\"data.txt\", \"a\")\n",
    "fin.write('\\nThis is newly appended text.')\n",
    "fin.close()"
   ]
  },
  {
   "cell_type": "code",
   "execution_count": 2,
   "id": "04a5d716",
   "metadata": {},
   "outputs": [
    {
     "name": "stdout",
     "output_type": "stream",
     "text": [
      "4\n"
     ]
    }
   ],
   "source": [
    "number_of_lines = len(open('test.txt').readlines(  ))\n",
    "print(number_of_lines)"
   ]
  }
 ],
 "metadata": {
  "kernelspec": {
   "display_name": "Python 3 (ipykernel)",
   "language": "python",
   "name": "python3"
  },
  "language_info": {
   "codemirror_mode": {
    "name": "ipython",
    "version": 3
   },
   "file_extension": ".py",
   "mimetype": "text/x-python",
   "name": "python",
   "nbconvert_exporter": "python",
   "pygments_lexer": "ipython3",
   "version": "3.9.7"
  }
 },
 "nbformat": 4,
 "nbformat_minor": 5
}
