{
 "cells": [
  {
   "cell_type": "code",
   "execution_count": 1,
   "id": "b80b5362",
   "metadata": {},
   "outputs": [
    {
     "name": "stdout",
     "output_type": "stream",
     "text": [
      "Blu is a bird\n",
      "woo is also a bird\n",
      "Blu is 10 years old\n",
      "Woo is years old\n"
     ]
    }
   ],
   "source": [
    "class parrot:    \n",
    "    species=\"bird\"\n",
    "    def __init__(self,name,age):\n",
    "        self.name=name\n",
    "        self.age=age\n",
    "blu=parrot(\"Blu\",10)\n",
    "woo=parrot(\"Woo\",15)\n",
    "print(\"Blu is a {}\".format(blu.__class__.species))\n",
    "print(\"woo is also a {}\".format(woo.__class__.species))\n",
    "print(\"{} is {} years old\".format(blu.name,blu.age))\n",
    "print(\"{} is years old\".format(woo.name,woo.age))"
   ]
  },
  {
   "cell_type": "code",
   "execution_count": 2,
   "id": "c6453250",
   "metadata": {},
   "outputs": [
    {
     "name": "stdout",
     "output_type": "stream",
     "text": [
      "blu sings 'Happy'\n",
      "blu is now dancing\n"
     ]
    }
   ],
   "source": [
    "class parrot:\n",
    "    def __init__(self,name,age):\n",
    "        self.name=name\n",
    "        self.age=age\n",
    "    def sing(self,song):\n",
    "        return\"{} sings {}\".format(self.name,song)\n",
    "    def dance(self):\n",
    "        return\"{} is now dancing\".format(self.name)\n",
    "blu=parrot(\"blu\",10)\n",
    "print(blu.sing(\"'Happy'\"))\n",
    "print(blu.dance())"
   ]
  },
  {
   "cell_type": "code",
   "execution_count": 3,
   "id": "01959001",
   "metadata": {},
   "outputs": [
    {
     "name": "stdout",
     "output_type": "stream",
     "text": [
      "Bird is ready\n",
      "Penguin is ready\n",
      "Penguin\n",
      "Swim faster\n",
      "Run faster\n"
     ]
    }
   ],
   "source": [
    "class Bird:\n",
    "    def __init__(self):\n",
    "        print(\"Bird is ready\")\n",
    "    def whoisThis(self):\n",
    "        print(\"Bird\")\n",
    "    def swim(self):\n",
    "        print(\"Swim faster\")\n",
    "class penguin(Bird):\n",
    "    def __init__(self):\n",
    "        super().__init__()\n",
    "        print(\"Penguin is ready\")\n",
    "    def whoisThis(self):\n",
    "        print(\"Penguin\")\n",
    "    def run(self):\n",
    "        print(\"Run faster\")\n",
    "peggy=penguin()\n",
    "peggy.whoisThis()\n",
    "peggy.swim()\n",
    "peggy.run()\n",
    "    "
   ]
  },
  {
   "cell_type": "code",
   "execution_count": 4,
   "id": "8b9ede08",
   "metadata": {},
   "outputs": [
    {
     "name": "stdout",
     "output_type": "stream",
     "text": [
      "selling price:900\n",
      "selling price:900\n",
      "selling price:1000\n"
     ]
    }
   ],
   "source": [
    "class computer:\n",
    "    def __init__(self):\n",
    "        self.__maxprice=900\n",
    "    def sell(self):\n",
    "        print(\"selling price:{}\".format(self.__maxprice))\n",
    "    def setMaxPrice(self,price):\n",
    "        self.__maxprice=price\n",
    "c=computer()\n",
    "c.sell()\n",
    "c.__maxprice=1000\n",
    "c.sell()\n",
    "c.setMaxPrice(1000)\n",
    "c.sell()"
   ]
  },
  {
   "cell_type": "code",
   "execution_count": 5,
   "id": "88e64d40",
   "metadata": {},
   "outputs": [
    {
     "name": "stdout",
     "output_type": "stream",
     "text": [
      "Parrrot can fly\n",
      "penguin cant fly\n"
     ]
    }
   ],
   "source": [
    "class parrot:\n",
    "    def fly(self):\n",
    "        print(\"Parrrot can fly\")\n",
    "    def swim(self):\n",
    "        print(\"Parrot cant swim\")\n",
    "class penguin:\n",
    "    def fly(self):\n",
    "        print(\"penguin cant fly\")\n",
    "    def swim(self):\n",
    "        print(\"penguin can swim\")\n",
    "def flying_test(bird):\n",
    "    bird.fly()\n",
    "blu=parrot()\n",
    "peggy=penguin()\n",
    "flying_test(blu)\n",
    "flying_test(peggy)"
   ]
  },
  {
   "cell_type": "code",
   "execution_count": 1,
   "id": "5068cb59",
   "metadata": {},
   "outputs": [
    {
     "name": "stdout",
     "output_type": "stream",
     "text": [
      "Name: Jessa Sex: Female Profession: Software Engineer\n",
      "Jessa working as a Software Engineer\n"
     ]
    }
   ],
   "source": [
    "class Person:\n",
    "    def __init__(self, name, sex, profession):\n",
    "        self.name = name\n",
    "        self.sex = sex\n",
    "        self.profession = profession\n",
    "    def show(self):\n",
    "        print('Name:', self.name, 'Sex:', self.sex, 'Profession:', self.profession)\n",
    "    def work(self):\n",
    "        print(self.name, 'working as a', self.profession)\n",
    "jessa = Person('Jessa', 'Female', 'Software Engineer')\n",
    "jessa.show()\n",
    "jessa.work()\n"
   ]
  },
  {
   "cell_type": "code",
   "execution_count": null,
   "id": "215f590a",
   "metadata": {},
   "outputs": [],
   "source": []
  }
 ],
 "metadata": {
  "kernelspec": {
   "display_name": "Python 3 (ipykernel)",
   "language": "python",
   "name": "python3"
  },
  "language_info": {
   "codemirror_mode": {
    "name": "ipython",
    "version": 3
   },
   "file_extension": ".py",
   "mimetype": "text/x-python",
   "name": "python",
   "nbconvert_exporter": "python",
   "pygments_lexer": "ipython3",
   "version": "3.9.7"
  }
 },
 "nbformat": 4,
 "nbformat_minor": 5
}
