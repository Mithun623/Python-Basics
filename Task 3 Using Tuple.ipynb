{
 "cells": [
  {
   "cell_type": "code",
   "execution_count": 1,
   "id": "a861dd76",
   "metadata": {},
   "outputs": [
    {
     "name": "stdout",
     "output_type": "stream",
     "text": [
      "(10, 20, 30, 40)\n"
     ]
    }
   ],
   "source": [
    "T=(10,20,30,40)\n",
    "print(T)"
   ]
  },
  {
   "cell_type": "code",
   "execution_count": 3,
   "id": "51a51683",
   "metadata": {},
   "outputs": [
    {
     "name": "stdout",
     "output_type": "stream",
     "text": [
      "('10', 'ravi', '2.5')\n"
     ]
    }
   ],
   "source": [
    "T=('10','ravi','2.5')\n",
    "print(T)"
   ]
  },
  {
   "cell_type": "code",
   "execution_count": 4,
   "id": "343686ba",
   "metadata": {},
   "outputs": [
    {
     "data": {
      "text/plain": [
       "40"
      ]
     },
     "execution_count": 4,
     "metadata": {},
     "output_type": "execute_result"
    }
   ],
   "source": [
    "T=[10,20,30,40,50,60,70]\n",
    "T[3]"
   ]
  },
  {
   "cell_type": "code",
   "execution_count": 5,
   "id": "36581088",
   "metadata": {},
   "outputs": [
    {
     "name": "stdout",
     "output_type": "stream",
     "text": [
      "(10, 20, 50, 40)\n"
     ]
    }
   ],
   "source": [
    "val=(10,20,30,40)\n",
    "a,b,c,d=val\n",
    "c=50\n",
    "val=(a,b,c,d)\n",
    "print(val)"
   ]
  },
  {
   "cell_type": "code",
   "execution_count": 8,
   "id": "e976b00d",
   "metadata": {},
   "outputs": [
    {
     "data": {
      "text/plain": [
       "(10, 20, 30, 40)"
      ]
     },
     "execution_count": 8,
     "metadata": {},
     "output_type": "execute_result"
    }
   ],
   "source": [
    "t1=(10,20,30)\n",
    "t1+(40,)"
   ]
  },
  {
   "cell_type": "code",
   "execution_count": 20,
   "id": "634ccf49",
   "metadata": {},
   "outputs": [
    {
     "name": "stdout",
     "output_type": "stream",
     "text": [
      "apple\n"
     ]
    }
   ],
   "source": [
    "t = (\"a\", \"p\", \"p\", \"l\", \"e\")\n",
    "print(\"\".join(t))"
   ]
  },
  {
   "cell_type": "code",
   "execution_count": 26,
   "id": "f80141ea",
   "metadata": {},
   "outputs": [
    {
     "name": "stdout",
     "output_type": "stream",
     "text": [
      "(10, 20, 30, 40, 50)\n"
     ]
    }
   ],
   "source": [
    "value = [10, 20, 30, 40, 50]\n",
    "my_tuple = tuple(value)\n",
    "print(my_tuple)"
   ]
  },
  {
   "cell_type": "code",
   "execution_count": 22,
   "id": "70e128ab",
   "metadata": {},
   "outputs": [
    {
     "data": {
      "text/plain": [
       "8"
      ]
     },
     "execution_count": 22,
     "metadata": {},
     "output_type": "execute_result"
    }
   ],
   "source": [
    "T1=(10,26,76,54,98,32,74,35)\n",
    "len(T1)"
   ]
  },
  {
   "cell_type": "code",
   "execution_count": 24,
   "id": "96c0d725",
   "metadata": {},
   "outputs": [
    {
     "data": {
      "text/plain": [
       "(35, 74, 32, 98, 54, 76, 26, 10)"
      ]
     },
     "execution_count": 24,
     "metadata": {},
     "output_type": "execute_result"
    }
   ],
   "source": [
    "T1=(10,26,76,54,98,32,74,35)\n",
    "T1[::-1]"
   ]
  },
  {
   "cell_type": "code",
   "execution_count": null,
   "id": "812802de",
   "metadata": {},
   "outputs": [],
   "source": []
  }
 ],
 "metadata": {
  "kernelspec": {
   "display_name": "Python 3 (ipykernel)",
   "language": "python",
   "name": "python3"
  },
  "language_info": {
   "codemirror_mode": {
    "name": "ipython",
    "version": 3
   },
   "file_extension": ".py",
   "mimetype": "text/x-python",
   "name": "python",
   "nbconvert_exporter": "python",
   "pygments_lexer": "ipython3",
   "version": "3.9.7"
  }
 },
 "nbformat": 4,
 "nbformat_minor": 5
}
