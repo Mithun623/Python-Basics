{
 "cells": [
  {
   "cell_type": "code",
   "execution_count": 1,
   "id": "496f111d",
   "metadata": {},
   "outputs": [
    {
     "name": "stdout",
     "output_type": "stream",
     "text": [
      "(30, -10)\n"
     ]
    }
   ],
   "source": [
    "def calculation(x,y):\n",
    "    return x+y,x-y\n",
    "sum=calculation(10,20)\n",
    "print(sum)"
   ]
  },
  {
   "cell_type": "code",
   "execution_count": 2,
   "id": "265160fa",
   "metadata": {},
   "outputs": [
    {
     "name": "stdout",
     "output_type": "stream",
     "text": [
      "employee:  ali\n",
      "Salary:  100\n",
      "employee:  ali\n",
      "Salary:  9000\n"
     ]
    }
   ],
   "source": [
    "def func(employee, salary=9000):\n",
    "    print('employee: ', employee )\n",
    "    print('Salary: ', salary)\n",
    "func('ali',100)\n",
    "func('ali')"
   ]
  },
  {
   "cell_type": "code",
   "execution_count": 3,
   "id": "a16ceaba",
   "metadata": {},
   "outputs": [
    {
     "name": "stdout",
     "output_type": "stream",
     "text": [
      "[25, 36, 16, 64, 100, 9]\n"
     ]
    }
   ],
   "source": [
    "my_list=[5,6,4,8,10,3]\n",
    "new_list=list(map(lambda x:x**2, my_list))\n",
    "print(new_list)"
   ]
  },
  {
   "cell_type": "code",
   "execution_count": 4,
   "id": "a8798fac",
   "metadata": {},
   "outputs": [
    {
     "name": "stdout",
     "output_type": "stream",
     "text": [
      "[5.0, 10.0, 20.0, 30.0]\n"
     ]
    }
   ],
   "source": [
    "my_list=[10,20,40,60]\n",
    "new_list=list(map(lambda x:x/2, my_list))\n",
    "print(new_list)"
   ]
  },
  {
   "cell_type": "code",
   "execution_count": 8,
   "id": "cfa4da42",
   "metadata": {},
   "outputs": [
    {
     "name": "stdout",
     "output_type": "stream",
     "text": [
      "Enter the terms? 32\n",
      "Fibonacci sequence:\n",
      "0\n",
      "1\n",
      "1\n",
      "2\n",
      "3\n",
      "5\n",
      "8\n",
      "13\n",
      "21\n",
      "34\n",
      "55\n",
      "89\n",
      "144\n",
      "233\n",
      "377\n",
      "610\n",
      "987\n",
      "1597\n",
      "2584\n",
      "4181\n",
      "6765\n",
      "10946\n",
      "17711\n",
      "28657\n",
      "46368\n",
      "75025\n",
      "121393\n",
      "196418\n",
      "317811\n",
      "514229\n",
      "832040\n",
      "1346269\n"
     ]
    }
   ],
   "source": [
    "def Fibonacci(n):\n",
    "    if n <= 1:\n",
    "        return n\n",
    "    else:\n",
    "        return(Fibonacci(n-1) + Fibonacci(n-2))  \n",
    "nterms = int(input(\"Enter the terms? \")) \n",
    "if nterms <= 0:\n",
    "    print(\"Please enter a positive integer\")    \n",
    "else:\n",
    "    print(\"Fibonacci sequence:\")  \n",
    "for i in range(nterms):\n",
    "    print(Fibonacci(i))"
   ]
  },
  {
   "cell_type": "code",
   "execution_count": 7,
   "id": "437aba43",
   "metadata": {},
   "outputs": [
    {
     "name": "stdout",
     "output_type": "stream",
     "text": [
      "21\n"
     ]
    }
   ],
   "source": [
    "def recursion(n):\n",
    "    if n <= 1:\n",
    "        return n\n",
    "    return n + recursion(n - 1)\n",
    "n =6\n",
    "print(recursion(n))"
   ]
  },
  {
   "cell_type": "code",
   "execution_count": 6,
   "id": "889414b3",
   "metadata": {},
   "outputs": [
    {
     "name": "stdout",
     "output_type": "stream",
     "text": [
      "number :  4\n",
      "Factorial :  24\n"
     ]
    }
   ],
   "source": [
    "def factorial(n): \n",
    "    if (n==1 or n==0):  \n",
    "        return 1   \n",
    "    else:  \n",
    "        return (n * factorial(n - 1))\n",
    "n =4;\n",
    "print(\"number : \",n)\n",
    "print(\"Factorial : \",factorial(n))"
   ]
  },
  {
   "cell_type": "code",
   "execution_count": 9,
   "id": "d7eb255e",
   "metadata": {},
   "outputs": [
    {
     "name": "stdout",
     "output_type": "stream",
     "text": [
      "Enter a Number:145\n",
      " 145 is not an Armstrong number\n"
     ]
    }
   ],
   "source": [
    "num = int(input(\"Enter a Number:\"))\n",
    "order = len(str(num))\n",
    "temp = num;\n",
    "sum = 0\n",
    "while(temp>0):\n",
    "    digit =temp%10\n",
    "    sum += digit **order\n",
    "    temp = temp//10\n",
    "if(sum==num):\n",
    "    print(\"\",num,\"is an Armstrong number\")\n",
    "else:\n",
    "    print(\"\",num,\"is not an Armstrong number\")"
   ]
  },
  {
   "cell_type": "code",
   "execution_count": null,
   "id": "e594b404",
   "metadata": {},
   "outputs": [],
   "source": []
  }
 ],
 "metadata": {
  "kernelspec": {
   "display_name": "Python 3 (ipykernel)",
   "language": "python",
   "name": "python3"
  },
  "language_info": {
   "codemirror_mode": {
    "name": "ipython",
    "version": 3
   },
   "file_extension": ".py",
   "mimetype": "text/x-python",
   "name": "python",
   "nbconvert_exporter": "python",
   "pygments_lexer": "ipython3",
   "version": "3.9.7"
  }
 },
 "nbformat": 4,
 "nbformat_minor": 5
}
