{
 "cells": [
  {
   "cell_type": "code",
   "execution_count": 25,
   "id": "8a8a05c8",
   "metadata": {},
   "outputs": [
    {
     "name": "stdout",
     "output_type": "stream",
     "text": [
      "The entry is 2\n"
     ]
    }
   ],
   "source": [
    "import sys\n",
    "randomlist=[2]\n",
    "for entry in randomlist:\n",
    "    try:\n",
    "        print(\"The entry is\",entry)\n",
    "        r=1/int(entry)\n",
    "        break\n",
    "    except:\n",
    "        print(\"oops!\",sys.exc_info()[0],\"occured.\")\n",
    "        print(\"next entry.\")\n",
    "        print()\n",
    "    print(\"The reciprocal of\",entry,\"is\",r)"
   ]
  },
  {
   "cell_type": "code",
   "execution_count": 11,
   "id": "b340645f",
   "metadata": {},
   "outputs": [
    {
     "name": "stdout",
     "output_type": "stream",
     "text": [
      "enter a number:1\n",
      "not an even number!\n"
     ]
    }
   ],
   "source": [
    "try:\n",
    "    num=int(input(\"enter a number:\"))\n",
    "    assert num%2==0\n",
    "except:\n",
    "    print(\"not an even number!\")\n",
    "else:\n",
    "    reciprocal=1/num\n",
    "    print(reciprocal)"
   ]
  },
  {
   "cell_type": "code",
   "execution_count": 34,
   "id": "7dda3b04",
   "metadata": {},
   "outputs": [
    {
     "name": "stdout",
     "output_type": "stream",
     "text": [
      "Enter a positive integer:-2\n",
      "That is not positive number!\n"
     ]
    }
   ],
   "source": [
    "try:\n",
    "    a=int(input(\"Enter a positive integer:\"))\n",
    "    if a<=0:\n",
    "        raise ValueError(\"That is not positive number!\")\n",
    "except ValueError as ve:\n",
    "            print(ve)"
   ]
  },
  {
   "cell_type": "code",
   "execution_count": 36,
   "id": "10828cce",
   "metadata": {},
   "outputs": [],
   "source": [
    "try:\n",
    "    f=open(\"test.txt\",encoding='utf-8')\n",
    "finally:\n",
    "        f.close()"
   ]
  }
 ],
 "metadata": {
  "kernelspec": {
   "display_name": "Python 3 (ipykernel)",
   "language": "python",
   "name": "python3"
  },
  "language_info": {
   "codemirror_mode": {
    "name": "ipython",
    "version": 3
   },
   "file_extension": ".py",
   "mimetype": "text/x-python",
   "name": "python",
   "nbconvert_exporter": "python",
   "pygments_lexer": "ipython3",
   "version": "3.9.7"
  }
 },
 "nbformat": 4,
 "nbformat_minor": 5
}
