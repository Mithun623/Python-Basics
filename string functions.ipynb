{
 "cells": [
  {
   "cell_type": "code",
   "execution_count": 4,
   "id": "579b5269",
   "metadata": {},
   "outputs": [
    {
     "data": {
      "text/plain": [
       "'This Is String Example....Wow!!!'"
      ]
     },
     "execution_count": 4,
     "metadata": {},
     "output_type": "execute_result"
    }
   ],
   "source": [
    "str=\"this is string example....wow!!!\"\n",
    "str.title()"
   ]
  },
  {
   "cell_type": "code",
   "execution_count": 2,
   "id": "61e1cf79",
   "metadata": {},
   "outputs": [
    {
     "data": {
      "text/plain": [
       "\"This Isn'T A Float Example....Wow!!!\""
      ]
     },
     "execution_count": 2,
     "metadata": {},
     "output_type": "execute_result"
    }
   ],
   "source": [
    "str=\"this isn't a float example....wow!!!\"\n",
    "str.title()\n"
   ]
  },
  {
   "cell_type": "code",
   "execution_count": 2,
   "id": "feb39a1f",
   "metadata": {},
   "outputs": [
    {
     "data": {
      "text/plain": [
       "\"THIS ISN'T A FLOAT EXAMPLE...WOW!!!\""
      ]
     },
     "execution_count": 2,
     "metadata": {},
     "output_type": "execute_result"
    }
   ],
   "source": [
    "str=\"this isn't a float example...wow!!!\"\n",
    "str.upper()"
   ]
  },
  {
   "cell_type": "code",
   "execution_count": 3,
   "id": "e78e1f99",
   "metadata": {},
   "outputs": [
    {
     "data": {
      "text/plain": [
       "'this is string example....wow!!!'"
      ]
     },
     "execution_count": 3,
     "metadata": {},
     "output_type": "execute_result"
    }
   ],
   "source": [
    "str=\"this is string example....wow!!!\"\n",
    "str.lower()"
   ]
  },
  {
   "cell_type": "code",
   "execution_count": 2,
   "id": "8d1d6603",
   "metadata": {},
   "outputs": [
    {
     "data": {
      "text/plain": [
       "15"
      ]
     },
     "execution_count": 2,
     "metadata": {},
     "output_type": "execute_result"
    }
   ],
   "source": [
    "str=\"this is my book\"\n",
    "len(str)"
   ]
  },
  {
   "cell_type": "code",
   "execution_count": 5,
   "id": "388942b9",
   "metadata": {},
   "outputs": [
    {
     "data": {
      "text/plain": [
       "'This is string example....wow!!!'"
      ]
     },
     "execution_count": 5,
     "metadata": {},
     "output_type": "execute_result"
    }
   ],
   "source": [
    "str=\"this is stRing example....wow!!!\"\n",
    "str.capitalize()"
   ]
  },
  {
   "cell_type": "code",
   "execution_count": 3,
   "id": "ebfb2cfa",
   "metadata": {},
   "outputs": [
    {
     "data": {
      "text/plain": [
       "3"
      ]
     },
     "execution_count": 3,
     "metadata": {},
     "output_type": "execute_result"
    }
   ],
   "source": [
    "str=\"this is stRing example....wow!!\"\n",
    "sub=\"i\"\n",
    "str.count(sub,1,40)"
   ]
  },
  {
   "cell_type": "code",
   "execution_count": 7,
   "id": "d4619c93",
   "metadata": {},
   "outputs": [
    {
     "data": {
      "text/plain": [
       "1"
      ]
     },
     "execution_count": 7,
     "metadata": {},
     "output_type": "execute_result"
    }
   ],
   "source": [
    "sub=\"wow\"\n",
    "str.count(sub)"
   ]
  },
  {
   "cell_type": "code",
   "execution_count": 10,
   "id": "ffcf0714",
   "metadata": {},
   "outputs": [
    {
     "data": {
      "text/plain": [
       "'Welcome To My World'"
      ]
     },
     "execution_count": 10,
     "metadata": {},
     "output_type": "execute_result"
    }
   ],
   "source": [
    "str=\"welcome to my world\"\n",
    "str.title()"
   ]
  },
  {
   "cell_type": "code",
   "execution_count": 11,
   "id": "8bbc861f",
   "metadata": {},
   "outputs": [
    {
     "data": {
      "text/plain": [
       "\"Today Is Father'S Day\""
      ]
     },
     "execution_count": 11,
     "metadata": {},
     "output_type": "execute_result"
    }
   ],
   "source": [
    "str=\"today is father's day\"\n",
    "str.title()"
   ]
  },
  {
   "cell_type": "code",
   "execution_count": 12,
   "id": "3a9a7d5e",
   "metadata": {},
   "outputs": [
    {
     "data": {
      "text/plain": [
       "32"
      ]
     },
     "execution_count": 12,
     "metadata": {},
     "output_type": "execute_result"
    }
   ],
   "source": [
    "str=\"today is world environmental day\"\n",
    "len(str)\n"
   ]
  },
  {
   "cell_type": "code",
   "execution_count": 13,
   "id": "7f277024",
   "metadata": {},
   "outputs": [
    {
     "data": {
      "text/plain": [
       "'today is world environmental day'"
      ]
     },
     "execution_count": 13,
     "metadata": {},
     "output_type": "execute_result"
    }
   ],
   "source": [
    "str=\"today is world environmental day\"\n",
    "str.lower()"
   ]
  },
  {
   "cell_type": "code",
   "execution_count": 14,
   "id": "227f86ef",
   "metadata": {},
   "outputs": [
    {
     "data": {
      "text/plain": [
       "'TODAY IS WORLD ENVIRONMENTAL DAY'"
      ]
     },
     "execution_count": 14,
     "metadata": {},
     "output_type": "execute_result"
    }
   ],
   "source": [
    "str=\"today is world environmental day\"\n",
    "str.upper()"
   ]
  },
  {
   "cell_type": "code",
   "execution_count": 26,
   "id": "95fdc4b7",
   "metadata": {},
   "outputs": [
    {
     "data": {
      "text/plain": [
       "1"
      ]
     },
     "execution_count": 26,
     "metadata": {},
     "output_type": "execute_result"
    }
   ],
   "source": [
    "str1=\"today is world environmental day\"\n",
    "sub=\"today\"\n",
    "str1.count(sub)"
   ]
  },
  {
   "cell_type": "code",
   "execution_count": 10,
   "id": "5078ce3a",
   "metadata": {
    "scrolled": true
   },
   "outputs": [
    {
     "data": {
      "text/plain": [
       "15"
      ]
     },
     "execution_count": 10,
     "metadata": {},
     "output_type": "execute_result"
    }
   ],
   "source": [
    "str1=\"this is string example....wow!!!\"\n",
    "str2=\"exam\"\n",
    "str1.find(str2)"
   ]
  },
  {
   "cell_type": "code",
   "execution_count": 48,
   "id": "29269cf7",
   "metadata": {},
   "outputs": [
    {
     "data": {
      "text/plain": [
       "15"
      ]
     },
     "execution_count": 48,
     "metadata": {},
     "output_type": "execute_result"
    }
   ],
   "source": [
    "str1.find(str2,2,20)\n"
   ]
  },
  {
   "cell_type": "code",
   "execution_count": 49,
   "id": "06192d8f",
   "metadata": {},
   "outputs": [
    {
     "data": {
      "text/plain": [
       "-1"
      ]
     },
     "execution_count": 49,
     "metadata": {},
     "output_type": "execute_result"
    }
   ],
   "source": [
    "str1.find(str2,40)"
   ]
  },
  {
   "cell_type": "code",
   "execution_count": 36,
   "id": "4e817f9a",
   "metadata": {},
   "outputs": [
    {
     "data": {
      "text/plain": [
       "15"
      ]
     },
     "execution_count": 36,
     "metadata": {},
     "output_type": "execute_result"
    }
   ],
   "source": [
    "str3=\"this is string example....wow!!!\"\n",
    "str4=\"exam\"\n",
    "str3.index(str4,10)"
   ]
  },
  {
   "cell_type": "code",
   "execution_count": 38,
   "id": "ea38d623",
   "metadata": {},
   "outputs": [
    {
     "ename": "ValueError",
     "evalue": "substring not found",
     "output_type": "error",
     "traceback": [
      "\u001b[1;31m---------------------------------------------------------------------------\u001b[0m",
      "\u001b[1;31mValueError\u001b[0m                                Traceback (most recent call last)",
      "\u001b[1;32m~\\AppData\\Local\\Temp/ipykernel_10140/1795628502.py\u001b[0m in \u001b[0;36m<module>\u001b[1;34m\u001b[0m\n\u001b[1;32m----> 1\u001b[1;33m \u001b[0mstr3\u001b[0m\u001b[1;33m.\u001b[0m\u001b[0mindex\u001b[0m\u001b[1;33m(\u001b[0m\u001b[0mstr4\u001b[0m\u001b[1;33m,\u001b[0m\u001b[1;36m40\u001b[0m\u001b[1;33m)\u001b[0m\u001b[1;33m\u001b[0m\u001b[1;33m\u001b[0m\u001b[0m\n\u001b[0m",
      "\u001b[1;31mValueError\u001b[0m: substring not found"
     ]
    }
   ],
   "source": [
    "str3.index(str4,40)"
   ]
  },
  {
   "cell_type": "code",
   "execution_count": 12,
   "id": "dd642c82",
   "metadata": {},
   "outputs": [
    {
     "data": {
      "text/plain": [
       "True"
      ]
     },
     "execution_count": 12,
     "metadata": {},
     "output_type": "execute_result"
    }
   ],
   "source": [
    "str=\"this2009\"\n",
    "str.isalnum()"
   ]
  },
  {
   "cell_type": "code",
   "execution_count": 42,
   "id": "3604af97",
   "metadata": {},
   "outputs": [
    {
     "data": {
      "text/plain": [
       "False"
      ]
     },
     "execution_count": 42,
     "metadata": {},
     "output_type": "execute_result"
    }
   ],
   "source": [
    "str=\"this is string example....wow!!!\"\n",
    "str.isalnum()"
   ]
  },
  {
   "cell_type": "code",
   "execution_count": 43,
   "id": "8ef4fa62",
   "metadata": {},
   "outputs": [
    {
     "data": {
      "text/plain": [
       "True"
      ]
     },
     "execution_count": 43,
     "metadata": {},
     "output_type": "execute_result"
    }
   ],
   "source": [
    "str=\"this\"\n",
    "str.isalpha()"
   ]
  },
  {
   "cell_type": "code",
   "execution_count": 44,
   "id": "5f7edc14",
   "metadata": {},
   "outputs": [
    {
     "data": {
      "text/plain": [
       "False"
      ]
     },
     "execution_count": 44,
     "metadata": {},
     "output_type": "execute_result"
    }
   ],
   "source": [
    "str=\"this is string example....wow!!!\"\n",
    "str.isalpha()"
   ]
  },
  {
   "cell_type": "code",
   "execution_count": 45,
   "id": "1f3c9bf4",
   "metadata": {},
   "outputs": [
    {
     "data": {
      "text/plain": [
       "False"
      ]
     },
     "execution_count": 45,
     "metadata": {},
     "output_type": "execute_result"
    }
   ],
   "source": [
    "str=\"this2009\"\n",
    "str.isdigit()"
   ]
  },
  {
   "cell_type": "code",
   "execution_count": 1,
   "id": "b171bcd3",
   "metadata": {},
   "outputs": [
    {
     "data": {
      "text/plain": [
       "True"
      ]
     },
     "execution_count": 1,
     "metadata": {},
     "output_type": "execute_result"
    }
   ],
   "source": [
    "str=\"2009\"\n",
    "str.isdigit()"
   ]
  },
  {
   "cell_type": "code",
   "execution_count": 14,
   "id": "bafbe695",
   "metadata": {},
   "outputs": [
    {
     "data": {
      "text/plain": [
       "True"
      ]
     },
     "execution_count": 14,
     "metadata": {},
     "output_type": "execute_result"
    }
   ],
   "source": [
    "str=\" \"\n",
    "str.isspace()"
   ]
  },
  {
   "cell_type": "code",
   "execution_count": 16,
   "id": "7c3ea381",
   "metadata": {},
   "outputs": [
    {
     "data": {
      "text/plain": [
       "False"
      ]
     },
     "execution_count": 16,
     "metadata": {},
     "output_type": "execute_result"
    }
   ],
   "source": [
    "str=\"This is string example....wow!!!\"\n",
    "str.isspace()"
   ]
  },
  {
   "cell_type": "code",
   "execution_count": 4,
   "id": "5e29b3ba",
   "metadata": {},
   "outputs": [
    {
     "data": {
      "text/plain": [
       "True"
      ]
     },
     "execution_count": 4,
     "metadata": {},
     "output_type": "execute_result"
    }
   ],
   "source": [
    "str=\"      \"\n",
    "str.isspace()"
   ]
  },
  {
   "cell_type": "code",
   "execution_count": 5,
   "id": "f30939a3",
   "metadata": {},
   "outputs": [
    {
     "data": {
      "text/plain": [
       "False"
      ]
     },
     "execution_count": 5,
     "metadata": {},
     "output_type": "execute_result"
    }
   ],
   "source": [
    "str=\"THIS is string example....wow!!!\"\n",
    "str.islower()"
   ]
  },
  {
   "cell_type": "code",
   "execution_count": 7,
   "id": "ebb49bc1",
   "metadata": {},
   "outputs": [
    {
     "data": {
      "text/plain": [
       "False"
      ]
     },
     "execution_count": 7,
     "metadata": {},
     "output_type": "execute_result"
    }
   ],
   "source": [
    "str=\"WHO are you?\"\n",
    "str.islower()\n"
   ]
  },
  {
   "cell_type": "code",
   "execution_count": 8,
   "id": "cc82b677",
   "metadata": {},
   "outputs": [
    {
     "data": {
      "text/plain": [
       "True"
      ]
     },
     "execution_count": 8,
     "metadata": {},
     "output_type": "execute_result"
    }
   ],
   "source": [
    "str=\"this is string example....wow!!!\"\n",
    "str.islower()"
   ]
  },
  {
   "cell_type": "code",
   "execution_count": 10,
   "id": "659c051e",
   "metadata": {},
   "outputs": [
    {
     "data": {
      "text/plain": [
       "True"
      ]
     },
     "execution_count": 10,
     "metadata": {},
     "output_type": "execute_result"
    }
   ],
   "source": [
    "str=\"this2009\"\n",
    "str.islower()"
   ]
  },
  {
   "cell_type": "code",
   "execution_count": 11,
   "id": "00595893",
   "metadata": {},
   "outputs": [
    {
     "data": {
      "text/plain": [
       "False"
      ]
     },
     "execution_count": 11,
     "metadata": {},
     "output_type": "execute_result"
    }
   ],
   "source": [
    "str=\"2009\"\n",
    "str.islower()"
   ]
  },
  {
   "cell_type": "code",
   "execution_count": 12,
   "id": "cc51c32f",
   "metadata": {},
   "outputs": [
    {
     "data": {
      "text/plain": [
       "True"
      ]
     },
     "execution_count": 12,
     "metadata": {},
     "output_type": "execute_result"
    }
   ],
   "source": [
    "str=\"THIS IS STRING EXAMPLE....WOW!!!\"\n",
    "str.isupper()\n"
   ]
  },
  {
   "cell_type": "code",
   "execution_count": 13,
   "id": "0a72c9fd",
   "metadata": {},
   "outputs": [
    {
     "data": {
      "text/plain": [
       "False"
      ]
     },
     "execution_count": 13,
     "metadata": {},
     "output_type": "execute_result"
    }
   ],
   "source": [
    "str=\"THIS is string example....wow!!!\"\n",
    "str.isupper()\n"
   ]
  },
  {
   "cell_type": "code",
   "execution_count": 14,
   "id": "7d07421c",
   "metadata": {},
   "outputs": [
    {
     "data": {
      "text/plain": [
       "True"
      ]
     },
     "execution_count": 14,
     "metadata": {},
     "output_type": "execute_result"
    }
   ],
   "source": [
    "str=\"This Is String Example....Wow!!!\"\n",
    "str.istitle()\n"
   ]
  },
  {
   "cell_type": "code",
   "execution_count": 15,
   "id": "d4aab40f",
   "metadata": {},
   "outputs": [
    {
     "data": {
      "text/plain": [
       "False"
      ]
     },
     "execution_count": 15,
     "metadata": {},
     "output_type": "execute_result"
    }
   ],
   "source": [
    "str=\"This is string example....wow!!!\"\n",
    "str.istitle()"
   ]
  },
  {
   "cell_type": "code",
   "execution_count": 17,
   "id": "1f3c4031",
   "metadata": {},
   "outputs": [
    {
     "data": {
      "text/plain": [
       "'this is string 0000 example....wow!!!'"
      ]
     },
     "execution_count": 17,
     "metadata": {},
     "output_type": "execute_result"
    }
   ],
   "source": [
    "str=\"0000000this is string example....wow!!!0000000\"\n",
    "str.strip('0')"
   ]
  },
  {
   "cell_type": "code",
   "execution_count": 22,
   "id": "418f0fe9",
   "metadata": {},
   "outputs": [
    {
     "data": {
      "text/plain": [
       "('thi', 's', ' Is String Example....Wow!!')"
      ]
     },
     "execution_count": 22,
     "metadata": {},
     "output_type": "execute_result"
    }
   ],
   "source": [
    "str=\"this Is String Example....Wow!!\"\n",
    "str.partition('s')"
   ]
  },
  {
   "cell_type": "code",
   "execution_count": 18,
   "id": "8f30ccd1",
   "metadata": {},
   "outputs": [
    {
     "data": {
      "text/plain": [
       "['this', 'is', 'my', 'book']"
      ]
     },
     "execution_count": 18,
     "metadata": {},
     "output_type": "execute_result"
    }
   ],
   "source": [
    "str=\"this is my book\"\n",
    "str.split()"
   ]
  },
  {
   "cell_type": "code",
   "execution_count": 21,
   "id": "868b686d",
   "metadata": {},
   "outputs": [
    {
     "data": {
      "text/plain": [
       "'tHIS IS STRING EXAMPLE....wow!!!'"
      ]
     },
     "execution_count": 21,
     "metadata": {},
     "output_type": "execute_result"
    }
   ],
   "source": [
    "str=\"This is string example....WOW!!!\"\n",
    "str.swapcase()"
   ]
  },
  {
   "cell_type": "code",
   "execution_count": 25,
   "id": "f6bd1d27",
   "metadata": {},
   "outputs": [
    {
     "data": {
      "text/plain": [
       "'h*e*l*l*o'"
      ]
     },
     "execution_count": 25,
     "metadata": {},
     "output_type": "execute_result"
    }
   ],
   "source": [
    "str=\"hello\"\n",
    "t='*'\n",
    "t.join(str)"
   ]
  },
  {
   "cell_type": "code",
   "execution_count": 30,
   "id": "6b16a7d0",
   "metadata": {},
   "outputs": [
    {
     "data": {
      "text/plain": [
       "'w*e*l*c*o*m*e* *t*o* *m*y* *w*o*r*l*d'"
      ]
     },
     "execution_count": 30,
     "metadata": {},
     "output_type": "execute_result"
    }
   ],
   "source": [
    "str=\"welcome to my world\"\n",
    "s='*'\n",
    "s.join(str)"
   ]
  },
  {
   "cell_type": "code",
   "execution_count": 27,
   "id": "38ea0cf4",
   "metadata": {},
   "outputs": [
    {
     "data": {
      "text/plain": [
       "'thas as string example....wow!!!thas as really string'"
      ]
     },
     "execution_count": 27,
     "metadata": {},
     "output_type": "execute_result"
    }
   ],
   "source": [
    "str=\"this is string example....wow!!!this is really string\"\n",
    "str.replace(\"is\",\"as\")"
   ]
  },
  {
   "cell_type": "code",
   "execution_count": null,
   "id": "ba4dfef8",
   "metadata": {},
   "outputs": [],
   "source": []
  }
 ],
 "metadata": {
  "kernelspec": {
   "display_name": "Python 3 (ipykernel)",
   "language": "python",
   "name": "python3"
  },
  "language_info": {
   "codemirror_mode": {
    "name": "ipython",
    "version": 3
   },
   "file_extension": ".py",
   "mimetype": "text/x-python",
   "name": "python",
   "nbconvert_exporter": "python",
   "pygments_lexer": "ipython3",
   "version": "3.9.7"
  }
 },
 "nbformat": 4,
 "nbformat_minor": 5
}
