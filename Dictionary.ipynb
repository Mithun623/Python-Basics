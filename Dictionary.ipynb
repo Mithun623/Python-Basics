{
 "cells": [
  {
   "cell_type": "code",
   "execution_count": 26,
   "id": "59dcb49a",
   "metadata": {},
   "outputs": [
    {
     "name": "stdout",
     "output_type": "stream",
     "text": [
      "dict['name']: zara\n"
     ]
    }
   ],
   "source": [
    "dict={'name':'zara','age':7,'Class':'First'}\n",
    "print(\"dict['name']:\",dict['name'])"
   ]
  },
  {
   "cell_type": "code",
   "execution_count": 28,
   "id": "ac3c6e37",
   "metadata": {},
   "outputs": [
    {
     "name": "stdout",
     "output_type": "stream",
     "text": [
      "dict['age'] 8\n",
      "dict['school']: DPS school\n"
     ]
    }
   ],
   "source": [
    "dict={'name':'zara','age':7,'class':'first'}\n",
    "dict['age']=8\n",
    "dict['school']=\"DPS school\"\n",
    "print(\"dict['age']\",dict['age'])\n",
    "print(\"dict['school']:\",dict['school'])"
   ]
  },
  {
   "cell_type": "code",
   "execution_count": 29,
   "id": "5ad74c66",
   "metadata": {},
   "outputs": [
    {
     "name": "stdout",
     "output_type": "stream",
     "text": [
      "dict['age']: dict['age']\n",
      "dict['school']: dict['school']\n"
     ]
    }
   ],
   "source": [
    "dict={'name':'zara','age':7,'class':'first'}\n",
    "del dict['name']\n",
    "dict.clear()\n",
    "del dict\n",
    "print(\"dict['age']:\",dict['age'])\n",
    "print(\"dict['school']:\",dict['school'])"
   ]
  },
  {
   "cell_type": "code",
   "execution_count": 32,
   "id": "2ab65279",
   "metadata": {},
   "outputs": [
    {
     "name": "stdout",
     "output_type": "stream",
     "text": [
      "dict['name']: zara\n"
     ]
    }
   ],
   "source": [
    "dict={'name':'zara','age':7,'Name':'Manni'}\n",
    "print(\"dict['name']:\",dict['name'])"
   ]
  },
  {
   "cell_type": "code",
   "execution_count": null,
   "id": "d0caa910",
   "metadata": {},
   "outputs": [],
   "source": []
  }
 ],
 "metadata": {
  "kernelspec": {
   "display_name": "Python 3 (ipykernel)",
   "language": "python",
   "name": "python3"
  },
  "language_info": {
   "codemirror_mode": {
    "name": "ipython",
    "version": 3
   },
   "file_extension": ".py",
   "mimetype": "text/x-python",
   "name": "python",
   "nbconvert_exporter": "python",
   "pygments_lexer": "ipython3",
   "version": "3.9.7"
  }
 },
 "nbformat": 4,
 "nbformat_minor": 5
}
