{
 "cells": [
  {
   "cell_type": "code",
   "execution_count": 1,
   "id": "47ad36f8",
   "metadata": {},
   "outputs": [
    {
     "name": "stdout",
     "output_type": "stream",
     "text": [
      "Enter string: hi\n",
      "string is:\n",
      "hi\n"
     ]
    }
   ],
   "source": [
    "class print1():\n",
    "    def __init__(self):\n",
    "        self.string=\"\"\n",
    " \n",
    "    def get(self):\n",
    "        self.string=input(\"Enter string: \")\n",
    " \n",
    "    def put(self):\n",
    "        print(\"string is:\")\n",
    "        print(self.string)\n",
    "obj=print1()\n",
    "obj.get()\n",
    "obj.put()"
   ]
  },
  {
   "cell_type": "code",
   "execution_count": 2,
   "id": "923048d5",
   "metadata": {},
   "outputs": [
    {
     "name": "stdout",
     "output_type": "stream",
     "text": [
      "Enter first number:5\n",
      "Enter first number:7\n",
      "12\n",
      "35\n",
      "-2\n",
      "0.7142857142857143\n"
     ]
    }
   ],
   "source": [
    "class calculator:\n",
    "    def addition(self):\n",
    "        print(a+b)\n",
    "    def multiplication(self):\n",
    "        print(a*b)\n",
    "    def subtraction(self):\n",
    "        print(a-b)\n",
    "    def division(self):\n",
    "        print(a/b)\n",
    "a = int(input(\"Enter first number:\"))\n",
    "b = int(input(\"Enter first number:\"))\n",
    "obj=calculator()\n",
    "obj.addition()\n",
    "obj.multiplication()\n",
    "obj.subtraction()\n",
    "obj.division()"
   ]
  },
  {
   "cell_type": "code",
   "execution_count": 1,
   "id": "709e0cc6",
   "metadata": {},
   "outputs": [
    {
     "name": "stdout",
     "output_type": "stream",
     "text": [
      "Enter age : 18\n",
      "Enter marks : 90\n",
      "Enter age : 23\n",
      "Enter marks : 80\n",
      "111 Raju 18 90\n",
      "222 Ramesh 23 80\n"
     ]
    }
   ],
   "source": [
    "class student:\n",
    "    def __init__(self, roll,name):\n",
    "        self.roll=roll\n",
    "        self.name=name\n",
    "    def display(self):\n",
    "        print(self.roll,self.name,self.age,self.marks)\n",
    "    def setAge(self):\n",
    "        self.age=int(input(\"Enter age : \"))\n",
    "    def setMarks(self):\n",
    "        self.marks=int(input(\"Enter marks : \"))\n",
    "s1=student(111,\"Raju\")\n",
    "s2=student(222,\"Ramesh\")\n",
    "\n",
    "s1.setAge()\n",
    "s1.setMarks()\n",
    "s2.setAge()\n",
    "s2.setMarks()\n",
    "s1.display()\n",
    "s2.display()\n"
   ]
  },
  {
   "cell_type": "code",
   "execution_count": 2,
   "id": "5c59c3b0",
   "metadata": {},
   "outputs": [
    {
     "name": "stdout",
     "output_type": "stream",
     "text": [
      "Object 1\n",
      "Name: Jessa\n",
      "Age: 20\n",
      "Object 2\n",
      "Name: Kelly\n",
      "Age: 10\n"
     ]
    }
   ],
   "source": [
    "class Student:    \n",
    "    def __init__(self, name, age):\n",
    "        self.name = name\n",
    "        self.age = age\n",
    "s1 = Student(\"Jessa\", 20)\n",
    "print('Object 1')\n",
    "print('Name:', s1.name)\n",
    "print('Age:', s1.age)\n",
    "s2= Student(\"Kelly\", 10)\n",
    "print('Object 2')\n",
    "print('Name:', s2.name)\n",
    "print('Age:', s2.age)\n"
   ]
  },
  {
   "cell_type": "code",
   "execution_count": 1,
   "id": "a23e006b",
   "metadata": {},
   "outputs": [
    {
     "name": "stdout",
     "output_type": "stream",
     "text": [
      "Animal is ready\n",
      "dog is ready\n",
      "dog\n",
      "Eating\n",
      "boow\n"
     ]
    }
   ],
   "source": [
    "class Animal:\n",
    "    def __init__(self):\n",
    "        print(\"Animal is ready\")\n",
    "    def whoisThis(self):\n",
    "        print(\"Animal\")\n",
    "    def eat(self):\n",
    "        print(\"Eating\")\n",
    "class dog(Animal):\n",
    "    def __init__(self):\n",
    "        super().__init__()\n",
    "        print(\"dog is ready\")\n",
    "    def whoisThis(self):\n",
    "        print(\"dog\")\n",
    "    def bark(self):\n",
    "        print(\"boow\")\n",
    "Animal=dog()\n",
    "Animal.whoisThis()\n",
    "Animal.eat()\n",
    "Animal.bark()"
   ]
  },
  {
   "cell_type": "code",
   "execution_count": 10,
   "id": "d547f329",
   "metadata": {},
   "outputs": [
    {
     "name": "stdout",
     "output_type": "stream",
     "text": [
      "animal is ready\n",
      "dog is ready\n",
      "dog\n",
      "eating\n",
      "boow\n",
      "dogchild is ready\n",
      "dogchild\n",
      "boow\n"
     ]
    }
   ],
   "source": [
    "class animal:\n",
    "    def __init__(self):\n",
    "        print(\"animal is ready\")\n",
    "    def whoisthis(self):\n",
    "        print(\"animal\")\n",
    "    def eat(self):\n",
    "        print(\"eating\")\n",
    "class dog(animal):\n",
    "    def __init__(self):\n",
    "        print(\"dog is ready\")\n",
    "    def whoisthis(self):\n",
    "        print(\"dog\")\n",
    "    def bark(self):\n",
    "        print(\"boow\")\n",
    "class dogchild(animal):\n",
    "    def __init__(self):\n",
    "        print(\"dogchild is ready\")\n",
    "    def whoisthis(self):\n",
    "        print(\"dogchild\")\n",
    "    def bark(self):\n",
    "        print(\"boow\")\n",
    "animal()\n",
    "animal=dog()\n",
    "animal.whoisthis()\n",
    "animal.eat()\n",
    "animal.bark()\n",
    "animal=dogchild()\n",
    "animal.whoisthis()\n",
    "animal.bark() "
   ]
  },
  {
   "cell_type": "code",
   "execution_count": 11,
   "id": "3507d9e6",
   "metadata": {},
   "outputs": [
    {
     "name": "stdout",
     "output_type": "stream",
     "text": [
      "30\n",
      "None\n",
      "200\n",
      "None\n",
      "0.5\n",
      "None\n"
     ]
    }
   ],
   "source": [
    "class Calculation1:  \n",
    "    def Summation(self,a,b):  \n",
    "        print(a+b)  \n",
    "class Calculation2:  \n",
    "    def Multiplication(self,a,b):  \n",
    "        print(a*b)  \n",
    "class Derived(Calculation1,Calculation2):  \n",
    "    def Divide(self,a,b):  \n",
    "        print(a/b)  \n",
    "d = Derived()  \n",
    "print(d.Summation(10,20))  \n",
    "print(d.Multiplication(10,20))  \n",
    "print(d.Divide(10,20))"
   ]
  },
  {
   "cell_type": "code",
   "execution_count": 15,
   "id": "e9df5872",
   "metadata": {},
   "outputs": [
    {
     "name": "stdout",
     "output_type": "stream",
     "text": [
      "Enter length of rectangle: 23\n",
      "Enter breadth of rectangle: 13\n",
      "area of rectangle 299\n"
     ]
    }
   ],
   "source": [
    "class rectangle():\n",
    "    def __init__(self,breadth,length):\n",
    "        self.breadth=breadth\n",
    "        self.length=length\n",
    "    def area(self):\n",
    "        return self.breadth*self.length\n",
    "a=int(input(\"Enter length of rectangle: \"))\n",
    "b=int(input(\"Enter breadth of rectangle: \"))\n",
    "obj=rectangle(a,b)\n",
    "obj.area()\n",
    "print(\"area of rectangle\",obj.area())"
   ]
  },
  {
   "cell_type": "code",
   "execution_count": null,
   "id": "005d5d26",
   "metadata": {},
   "outputs": [],
   "source": []
  }
 ],
 "metadata": {
  "kernelspec": {
   "display_name": "Python 3 (ipykernel)",
   "language": "python",
   "name": "python3"
  },
  "language_info": {
   "codemirror_mode": {
    "name": "ipython",
    "version": 3
   },
   "file_extension": ".py",
   "mimetype": "text/x-python",
   "name": "python",
   "nbconvert_exporter": "python",
   "pygments_lexer": "ipython3",
   "version": "3.9.7"
  }
 },
 "nbformat": 4,
 "nbformat_minor": 5
}
