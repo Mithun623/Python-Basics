{
 "cells": [
  {
   "cell_type": "code",
   "execution_count": 1,
   "id": "05b36d35",
   "metadata": {},
   "outputs": [
    {
     "name": "stdout",
     "output_type": "stream",
     "text": [
      "sum of all elements in a given list: 50\n"
     ]
    }
   ],
   "source": [
    "list=[5,10,15,20]\n",
    "Total=sum(list)\n",
    "print('sum of all elements in a given list:',Total)"
   ]
  },
  {
   "cell_type": "code",
   "execution_count": 2,
   "id": "86a49458",
   "metadata": {},
   "outputs": [
    {
     "name": "stdout",
     "output_type": "stream",
     "text": [
      "largest element in the given list: 20\n"
     ]
    }
   ],
   "source": [
    "list=[5,10,15,20]\n",
    "largest=max(list)\n",
    "print('largest element in the given list:',largest)"
   ]
  },
  {
   "cell_type": "code",
   "execution_count": 3,
   "id": "c8de7dc9",
   "metadata": {},
   "outputs": [
    {
     "name": "stdout",
     "output_type": "stream",
     "text": [
      "smallest element in the given list: 2\n"
     ]
    }
   ],
   "source": [
    "list=[2,45,26,67]\n",
    "smallest=min(list)\n",
    "print('smallest element in the given list:',smallest)                                         "
   ]
  },
  {
   "cell_type": "code",
   "execution_count": 4,
   "id": "1e8205dd",
   "metadata": {},
   "outputs": [
    {
     "name": "stdout",
     "output_type": "stream",
     "text": [
      "the list is empty\n"
     ]
    }
   ],
   "source": [
    "list=[]\n",
    "if not list:\n",
    "    print('the list is empty')\n",
    "else:\n",
    "    print('the list is not empty')    \n"
   ]
  },
  {
   "cell_type": "code",
   "execution_count": 5,
   "id": "b78c1ef9",
   "metadata": {},
   "outputs": [
    {
     "name": "stdout",
     "output_type": "stream",
     "text": [
      "[24, 45, 65, 21]\n"
     ]
    }
   ],
   "source": [
    "list=[24,45,65,21]\n",
    "my_list=list.copy()\n",
    "print(my_list)"
   ]
  },
  {
   "cell_type": "code",
   "execution_count": 6,
   "id": "deae9fb3",
   "metadata": {},
   "outputs": [
    {
     "name": "stdout",
     "output_type": "stream",
     "text": [
      "The count of 15 is: 2\n",
      "The count of 20 is: 3\n",
      "The count of 98 is: 6\n"
     ]
    }
   ],
   "source": [
    "list=['5','10','15','20','67','53','98']\n",
    "print('The count of 15 is:',list.index('15'))\n",
    "print('The count of 20 is:',list.index('20'))\n",
    "print('The count of 98 is:',list.index('98'))"
   ]
  },
  {
   "cell_type": "code",
   "execution_count": 7,
   "id": "431a5384",
   "metadata": {},
   "outputs": [
    {
     "name": "stdout",
     "output_type": "stream",
     "text": [
      "old list: ['hi', 'hello']\n",
      "Updated list: ['hi', 'hello', ['welcome', 'world', 'small']]\n"
     ]
    }
   ],
   "source": [
    "list=[\"hi\",\"hello\"]\n",
    "print('old list:',list)\n",
    "list1=['welcome','world','small']\n",
    "list.append(list1)\n",
    "print('Updated list:',list)"
   ]
  },
  {
   "cell_type": "code",
   "execution_count": 1,
   "id": "1da21882",
   "metadata": {},
   "outputs": [
    {
     "name": "stdout",
     "output_type": "stream",
     "text": [
      "Original List :  [10, 20, 30, 40, 20, 50, 60, 40]\n",
      "List of unique numbers :  [40, 10, 50, 20, 60, 30]\n"
     ]
    }
   ],
   "source": [
    "my_list = [10, 20, 30, 40, 20, 50, 60, 40]\n",
    "print(\"Original List : \",my_list)\n",
    "my_set = set(my_list)\n",
    "my_new_list = list(my_set)\n",
    "print(\"List of unique numbers : \",my_new_list)"
   ]
  },
  {
   "cell_type": "code",
   "execution_count": 13,
   "id": "8f7396c7",
   "metadata": {},
   "outputs": [
    {
     "name": "stdout",
     "output_type": "stream",
     "text": [
      "{'e', 'b'}\n"
     ]
    }
   ],
   "source": [
    "a='a','b','c','d','e'\n",
    "b='g','b','t','e','s'\n",
    "print(set(a) & set(b))\n"
   ]
  },
  {
   "cell_type": "code",
   "execution_count": null,
   "id": "7809d59e",
   "metadata": {},
   "outputs": [],
   "source": [
    "list = ['1','2','3','4'] \n",
    "newlist = \".\"\n",
    "a = newlist.join(list) \n",
    "print(a) "
   ]
  },
  {
   "cell_type": "code",
   "execution_count": null,
   "id": "dc76e275",
   "metadata": {},
   "outputs": [],
   "source": [
    "letters = ['h', 'e', 'l', 'l', 'o', ' ', 'w', 'o', 'r', 'l', 'd']\n",
    "sentence = ''.join(letters)\n",
    "print(sentence)"
   ]
  },
  {
   "cell_type": "code",
   "execution_count": 19,
   "id": "22d215d8",
   "metadata": {},
   "outputs": [
    {
     "name": "stdout",
     "output_type": "stream",
     "text": [
      "List after extend(): [1, 4, 2, 3, 5]\n"
     ]
    }
   ],
   "source": [
    "my_numbers = [2, 3, 5]\n",
    "numbers = [1, 4]\n",
    "numbers.extend(my_numbers)\n",
    "print('List after extend():', numbers)\n"
   ]
  },
  {
   "cell_type": "code",
   "execution_count": 20,
   "id": "e2576d83",
   "metadata": {},
   "outputs": [
    {
     "name": "stdout",
     "output_type": "stream",
     "text": [
      "enter the number=5\n",
      "a is odd number\n"
     ]
    }
   ],
   "source": [
    "a=int(input('enter the number='))\n",
    "if(a%2==0):\n",
    "    print('a is even number')\n",
    "else:\n",
    "    print('a is odd number')"
   ]
  },
  {
   "cell_type": "code",
   "execution_count": null,
   "id": "cb422138",
   "metadata": {},
   "outputs": [],
   "source": []
  }
 ],
 "metadata": {
  "kernelspec": {
   "display_name": "Python 3 (ipykernel)",
   "language": "python",
   "name": "python3"
  },
  "language_info": {
   "codemirror_mode": {
    "name": "ipython",
    "version": 3
   },
   "file_extension": ".py",
   "mimetype": "text/x-python",
   "name": "python",
   "nbconvert_exporter": "python",
   "pygments_lexer": "ipython3",
   "version": "3.9.7"
  }
 },
 "nbformat": 4,
 "nbformat_minor": 5
}
