{
 "cells": [
  {
   "cell_type": "code",
   "execution_count": 1,
   "id": "d45de2dc",
   "metadata": {},
   "outputs": [
    {
     "name": "stdout",
     "output_type": "stream",
     "text": [
      "1\n",
      "3\n",
      "5\n",
      "7\n",
      "9\n"
     ]
    }
   ],
   "source": [
    "import numpy as np\n",
    "li=[1,3,5,7,9]\n",
    "numpyArr = np.array(li)\n",
    "print(numpyArr[0])\n",
    "print(numpyArr[1])\n",
    "print(numpyArr[2])\n",
    "print(numpyArr[3])\n",
    "print(numpyArr[4])"
   ]
  },
  {
   "cell_type": "code",
   "execution_count": 2,
   "id": "759dae61",
   "metadata": {},
   "outputs": [
    {
     "name": "stdout",
     "output_type": "stream",
     "text": [
      "Before reversal Array is : [11, 22, 33, 44, 55]\n",
      "After reversing Array: [55, 44, 33, 22, 11]\n"
     ]
    }
   ],
   "source": [
    "arr = [11, 22, 33, 44, 55]\n",
    "print(\"Before reversal Array is :\",arr) \n",
    "arr.reverse()\n",
    "print(\"After reversing Array:\",arr)"
   ]
  },
  {
   "cell_type": "code",
   "execution_count": 3,
   "id": "efa2ea34",
   "metadata": {},
   "outputs": [
    {
     "name": "stdout",
     "output_type": "stream",
     "text": [
      "[array([1, 2, 3]), array([4, 5, 6])]\n"
     ]
    }
   ],
   "source": [
    "import numpy as np\n",
    "arr = np.array([1, 2, 3, 4, 5, 6])\n",
    "newarr = np.array_split(arr, 2)\n",
    "print(newarr)"
   ]
  },
  {
   "cell_type": "code",
   "execution_count": 4,
   "id": "deacf120",
   "metadata": {},
   "outputs": [
    {
     "name": "stdout",
     "output_type": "stream",
     "text": [
      "\n",
      "The Average Of Array Elements =  51.666666666666664\n"
     ]
    }
   ],
   "source": [
    "import numpy as np\n",
    "arr = np.array([10, 20, 40, 60, 80, 100])\n",
    "avg = np.average(arr)\n",
    "print('\\nThe Average Of Array Elements = ', avg)"
   ]
  },
  {
   "cell_type": "code",
   "execution_count": 5,
   "id": "9a18b93e",
   "metadata": {},
   "outputs": [
    {
     "name": "stdout",
     "output_type": "stream",
     "text": [
      "Array Items =  [ 2  3  8 10]\n",
      "The Second Largest Item in this Array =  8\n"
     ]
    }
   ],
   "source": [
    "import numpy as np\n",
    "secLarr = np.array([2,3,8,10])\n",
    "print(\"Array Items = \", secLarr)\n",
    "secLarr.sort()\n",
    "print(\"The Second Largest Item in this Array = \", secLarr[len(secLarr) - 2])"
   ]
  },
  {
   "cell_type": "code",
   "execution_count": 6,
   "id": "72bd883a",
   "metadata": {},
   "outputs": [
    {
     "name": "stdout",
     "output_type": "stream",
     "text": [
      "10\n"
     ]
    }
   ],
   "source": [
    "import numpy as np\n",
    "arr = np.array([10, 20, 40, 60, 80, 100])\n",
    "print (min(arr))"
   ]
  },
  {
   "cell_type": "code",
   "execution_count": 7,
   "id": "ae1c675f",
   "metadata": {},
   "outputs": [
    {
     "name": "stdout",
     "output_type": "stream",
     "text": [
      "100\n"
     ]
    }
   ],
   "source": [
    "import numpy as np\n",
    "arr = np.array([10, 20, 40, 60, 80, 100])\n",
    "print(max(arr))"
   ]
  },
  {
   "cell_type": "code",
   "execution_count": 8,
   "id": "2ec69f38",
   "metadata": {},
   "outputs": [
    {
     "name": "stdout",
     "output_type": "stream",
     "text": [
      "[10 20 30 40 50]\n"
     ]
    }
   ],
   "source": [
    "import numpy as np\n",
    "arr=np.array([10,20,30,40,50])\n",
    "print(arr)"
   ]
  },
  {
   "cell_type": "code",
   "execution_count": 9,
   "id": "7e2c19bc",
   "metadata": {},
   "outputs": [
    {
     "name": "stdout",
     "output_type": "stream",
     "text": [
      "[ 1  5  9 13 17 21]\n"
     ]
    }
   ],
   "source": [
    "import numpy as np\n",
    "arr = np.array([1, 3, 5, 7, 9, 11, 13, 15, 17, 19, 21])\n",
    "print(arr[0:len(arr):2])"
   ]
  },
  {
   "cell_type": "code",
   "execution_count": 10,
   "id": "11462878",
   "metadata": {},
   "outputs": [
    {
     "name": "stdout",
     "output_type": "stream",
     "text": [
      "[ 2  6 10 14 18]\n"
     ]
    }
   ],
   "source": [
    "import numpy as np\n",
    "arr=np.array([2,4,6,8,10,12,14,16,18,20])\n",
    "print(arr[0:len(arr):2])"
   ]
  },
  {
   "cell_type": "code",
   "execution_count": 11,
   "id": "e44126cb",
   "metadata": {},
   "outputs": [
    {
     "name": "stdout",
     "output_type": "stream",
     "text": [
      "[2 3 4 5]\n"
     ]
    }
   ],
   "source": [
    "import numpy as np\n",
    "arr = np.array([1, 2, 3, 4, 5, 6, 7])\n",
    "print(arr[1:5])"
   ]
  },
  {
   "cell_type": "code",
   "execution_count": 14,
   "id": "671a7eb1",
   "metadata": {},
   "outputs": [
    {
     "name": "stdout",
     "output_type": "stream",
     "text": [
      "[ 10  20  30  70  80  90 100]\n"
     ]
    }
   ],
   "source": [
    "import numpy as np\n",
    "a = np.array([10, 20, 30, 40, 50, 60, 70, 80, 90, 100])\n",
    "index = 3,4,5\n",
    "a = np.delete(a, index)\n",
    "print(a)"
   ]
  },
  {
   "cell_type": "code",
   "execution_count": null,
   "id": "3512ab12",
   "metadata": {},
   "outputs": [],
   "source": [
    "import numpy as np\n",
    "my_array = np.array([1, 2, 3, 4, 5, 6, 7, 8, 9, 10])               \n",
    "my_list = my_array.tolist()\n",
    "print(my_list)"
   ]
  },
  {
   "cell_type": "code",
   "execution_count": null,
   "id": "5417d488",
   "metadata": {},
   "outputs": [],
   "source": [
    "import numpy as np\n",
    "arr = np.array([1, 2, 3, 4, 5, 6, 7])\n",
    "print(len(arr))"
   ]
  },
  {
   "cell_type": "code",
   "execution_count": null,
   "id": "af5e39dd",
   "metadata": {},
   "outputs": [],
   "source": [
    "import numpy\n",
    "arr1_insert = numpy.array([1, 23, 33])  \n",
    "arr2_insert = numpy.insert(arr1_insert, 1, 91)  \n",
    "print(arr2_insert)"
   ]
  },
  {
   "cell_type": "code",
   "execution_count": null,
   "id": "3f4523b5",
   "metadata": {},
   "outputs": [],
   "source": []
  }
 ],
 "metadata": {
  "kernelspec": {
   "display_name": "Python 3 (ipykernel)",
   "language": "python",
   "name": "python3"
  },
  "language_info": {
   "codemirror_mode": {
    "name": "ipython",
    "version": 3
   },
   "file_extension": ".py",
   "mimetype": "text/x-python",
   "name": "python",
   "nbconvert_exporter": "python",
   "pygments_lexer": "ipython3",
   "version": "3.9.7"
  }
 },
 "nbformat": 4,
 "nbformat_minor": 5
}
