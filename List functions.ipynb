{
 "cells": [
  {
   "cell_type": "code",
   "execution_count": 1,
   "id": "71f95df8",
   "metadata": {},
   "outputs": [],
   "source": [
    "my_list=[]"
   ]
  },
  {
   "cell_type": "code",
   "execution_count": 2,
   "id": "6c1861bd",
   "metadata": {},
   "outputs": [
    {
     "name": "stdout",
     "output_type": "stream",
     "text": [
      "[1, 2, 3]\n"
     ]
    }
   ],
   "source": [
    "my_list=[1,2,3]\n",
    "print(my_list)"
   ]
  },
  {
   "cell_type": "code",
   "execution_count": 3,
   "id": "1deae3bc",
   "metadata": {},
   "outputs": [
    {
     "name": "stdout",
     "output_type": "stream",
     "text": [
      "[1, 'hello,3.4']\n"
     ]
    }
   ],
   "source": [
    "my_list=[1,\"hello,3.4\"]\n",
    "print(my_list)"
   ]
  },
  {
   "cell_type": "code",
   "execution_count": 4,
   "id": "562f61bb",
   "metadata": {},
   "outputs": [
    {
     "name": "stdout",
     "output_type": "stream",
     "text": [
      "['welcome', [8, 4, 6]]\n"
     ]
    }
   ],
   "source": [
    "my_list=[\"welcome\",[8,4,6]]\n",
    "print(my_list)"
   ]
  },
  {
   "cell_type": "code",
   "execution_count": 5,
   "id": "2f592983",
   "metadata": {},
   "outputs": [],
   "source": [
    "my_list=list()"
   ]
  },
  {
   "cell_type": "code",
   "execution_count": 6,
   "id": "095d808d",
   "metadata": {},
   "outputs": [
    {
     "name": "stdout",
     "output_type": "stream",
     "text": [
      "[1, 2, 3]\n"
     ]
    }
   ],
   "source": [
    "my_list=list([1,2,3])\n",
    "print(my_list)"
   ]
  },
  {
   "cell_type": "code",
   "execution_count": 7,
   "id": "100dbb6f",
   "metadata": {},
   "outputs": [
    {
     "name": "stdout",
     "output_type": "stream",
     "text": [
      "o\n",
      "b\n"
     ]
    }
   ],
   "source": [
    "list=['p','r','o','b','e']\n",
    "print(list[2])\n",
    "print(list[-2])"
   ]
  },
  {
   "cell_type": "code",
   "execution_count": 8,
   "id": "c92ef747",
   "metadata": {},
   "outputs": [
    {
     "name": "stdout",
     "output_type": "stream",
     "text": [
      "e\n",
      "p\n"
     ]
    }
   ],
   "source": [
    "my_list=['p','r','o','b','e']\n",
    "print(my_list[-1])\n",
    "print(my_list[-5])"
   ]
  },
  {
   "cell_type": "code",
   "execution_count": 9,
   "id": "413f7ace",
   "metadata": {},
   "outputs": [
    {
     "name": "stdout",
     "output_type": "stream",
     "text": [
      "[90, 60, 80]\n"
     ]
    }
   ],
   "source": [
    "marks=[90,60,80]\n",
    "print(marks)"
   ]
  },
  {
   "cell_type": "code",
   "execution_count": 10,
   "id": "41674b0a",
   "metadata": {},
   "outputs": [
    {
     "name": "stdout",
     "output_type": "stream",
     "text": [
      "[90, 100, 80]\n"
     ]
    }
   ],
   "source": [
    "marks[1]=100\n",
    "print(marks)"
   ]
  },
  {
   "cell_type": "code",
   "execution_count": 11,
   "id": "30a9ea2a",
   "metadata": {},
   "outputs": [
    {
     "name": "stdout",
     "output_type": "stream",
     "text": [
      "[90, 100, 80, 50]\n"
     ]
    }
   ],
   "source": [
    "marks.append(50)\n",
    "print(marks)"
   ]
  },
  {
   "cell_type": "code",
   "execution_count": 12,
   "id": "4ea43724",
   "metadata": {},
   "outputs": [
    {
     "name": "stdout",
     "output_type": "stream",
     "text": [
      "[90, 100, 80, 50, 60, 80, 70]\n"
     ]
    }
   ],
   "source": [
    "marks.extend([60,80,70])\n",
    "print(marks)"
   ]
  },
  {
   "cell_type": "code",
   "execution_count": 13,
   "id": "fe4c096a",
   "metadata": {},
   "outputs": [
    {
     "name": "stdout",
     "output_type": "stream",
     "text": [
      "[90, 100, 80, 40, 50, 60, 80, 70]\n"
     ]
    }
   ],
   "source": [
    "marks.insert(3,40)\n",
    "print(marks)"
   ]
  },
  {
   "cell_type": "code",
   "execution_count": 14,
   "id": "87df2848",
   "metadata": {},
   "outputs": [
    {
     "name": "stdout",
     "output_type": "stream",
     "text": [
      "[90, 100, 80, 40, 50, 60, 80, 70]\n"
     ]
    }
   ],
   "source": [
    "print(marks)"
   ]
  },
  {
   "cell_type": "code",
   "execution_count": 15,
   "id": "dbb138b1",
   "metadata": {},
   "outputs": [
    {
     "name": "stdout",
     "output_type": "stream",
     "text": [
      "[90, 100, 80, 40, 50, 60, 70]\n"
     ]
    }
   ],
   "source": [
    "del marks[6]\n",
    "print(marks)"
   ]
  },
  {
   "cell_type": "code",
   "execution_count": 16,
   "id": "06cdde08",
   "metadata": {},
   "outputs": [
    {
     "name": "stdout",
     "output_type": "stream",
     "text": [
      "[]\n"
     ]
    }
   ],
   "source": [
    "marks.clear()\n",
    "print(marks)"
   ]
  },
  {
   "cell_type": "code",
   "execution_count": 17,
   "id": "97d075df",
   "metadata": {},
   "outputs": [
    {
     "name": "stdout",
     "output_type": "stream",
     "text": [
      "[90, 60]\n"
     ]
    }
   ],
   "source": [
    "marks=[90,60,80]\n",
    "marks.remove(80)\n",
    "print(marks)"
   ]
  },
  {
   "cell_type": "code",
   "execution_count": 18,
   "id": "a9ad222d",
   "metadata": {},
   "outputs": [
    {
     "data": {
      "text/plain": [
       "30"
      ]
     },
     "execution_count": 18,
     "metadata": {},
     "output_type": "execute_result"
    }
   ],
   "source": [
    "marks=[100,20,30]\n",
    "marks.pop()"
   ]
  },
  {
   "cell_type": "code",
   "execution_count": 19,
   "id": "75170c21",
   "metadata": {},
   "outputs": [
    {
     "name": "stdout",
     "output_type": "stream",
     "text": [
      "[100, 20]\n"
     ]
    }
   ],
   "source": [
    "print(marks)"
   ]
  },
  {
   "cell_type": "code",
   "execution_count": 20,
   "id": "7a9bbf7d",
   "metadata": {},
   "outputs": [
    {
     "data": {
      "text/plain": [
       "100"
      ]
     },
     "execution_count": 20,
     "metadata": {},
     "output_type": "execute_result"
    }
   ],
   "source": [
    "marks.pop(0)"
   ]
  },
  {
   "cell_type": "code",
   "execution_count": 21,
   "id": "6e38c906",
   "metadata": {},
   "outputs": [
    {
     "name": "stdout",
     "output_type": "stream",
     "text": [
      "[20]\n"
     ]
    }
   ],
   "source": [
    "print(marks)"
   ]
  },
  {
   "cell_type": "code",
   "execution_count": 22,
   "id": "37875c95",
   "metadata": {},
   "outputs": [
    {
     "data": {
      "text/plain": [
       "70"
      ]
     },
     "execution_count": 22,
     "metadata": {},
     "output_type": "execute_result"
    }
   ],
   "source": [
    "marks.extend([40,50,60,70])\n",
    "marks.pop()"
   ]
  },
  {
   "cell_type": "code",
   "execution_count": 23,
   "id": "1190cb90",
   "metadata": {},
   "outputs": [
    {
     "data": {
      "text/plain": [
       "60"
      ]
     },
     "execution_count": 23,
     "metadata": {},
     "output_type": "execute_result"
    }
   ],
   "source": [
    "marks.pop()"
   ]
  },
  {
   "cell_type": "code",
   "execution_count": 24,
   "id": "3f2b6e68",
   "metadata": {},
   "outputs": [
    {
     "name": "stdout",
     "output_type": "stream",
     "text": [
      "['p', 'r', 'o', 'b']\n",
      "['b']\n"
     ]
    }
   ],
   "source": [
    "list=['p','r','o','b','e']\n",
    "print(list[0:4])\n",
    "print(list[-2:-1])"
   ]
  },
  {
   "cell_type": "code",
   "execution_count": 25,
   "id": "6c75d99f",
   "metadata": {},
   "outputs": [
    {
     "name": "stdout",
     "output_type": "stream",
     "text": [
      "['p', 'r', 'o', 'b']\n",
      "['r']\n"
     ]
    }
   ],
   "source": [
    "list=['p','r','o','b','e']\n",
    "print(list[0:4])\n",
    "print(list[-4:-3])"
   ]
  },
  {
   "cell_type": "code",
   "execution_count": 26,
   "id": "efdb919c",
   "metadata": {},
   "outputs": [
    {
     "name": "stdout",
     "output_type": "stream",
     "text": [
      "['e']\n"
     ]
    }
   ],
   "source": [
    "list=['a','b','c','d','e','f','g','h']\n",
    "print(list[4:5])"
   ]
  },
  {
   "cell_type": "code",
   "execution_count": 27,
   "id": "67a93db1",
   "metadata": {},
   "outputs": [
    {
     "name": "stdout",
     "output_type": "stream",
     "text": [
      "['c', 'd', 'e']\n"
     ]
    }
   ],
   "source": [
    "list=['a','b','c','d','e','f','g','h']\n",
    "print(list[2:5])"
   ]
  },
  {
   "cell_type": "code",
   "execution_count": 28,
   "id": "69de44db",
   "metadata": {},
   "outputs": [
    {
     "name": "stdout",
     "output_type": "stream",
     "text": [
      "['c', 'd', 'e']\n"
     ]
    }
   ],
   "source": [
    "list=['a','b','c','d','e','f','g','h']\n",
    "print(list[-6:-3])"
   ]
  },
  {
   "cell_type": "code",
   "execution_count": 29,
   "id": "4fe1f2f2",
   "metadata": {},
   "outputs": [
    {
     "name": "stdout",
     "output_type": "stream",
     "text": [
      "old list: ['hi', 'hello']\n",
      "Updated list: ['hi', 'hello', 'welcome!']\n"
     ]
    }
   ],
   "source": [
    "list=[\"hi\",\"hello\"]\n",
    "print('old list:',list)\n",
    "list.append('welcome!')\n",
    "print('Updated list:',list)"
   ]
  },
  {
   "cell_type": "code",
   "execution_count": 30,
   "id": "33dcde63",
   "metadata": {},
   "outputs": [
    {
     "name": "stdout",
     "output_type": "stream",
     "text": [
      "old list: ['hi', 'hello']\n",
      "Updated list: ['hi', 'hello', ['welcome']]\n"
     ]
    }
   ],
   "source": [
    "list=[\"hi\",\"hello\"]\n",
    "print('old list:',list)\n",
    "list1=['welcome']\n",
    "list.append(list1)\n",
    "print('Updated list:',list)"
   ]
  },
  {
   "cell_type": "code",
   "execution_count": 31,
   "id": "33b51bc9",
   "metadata": {},
   "outputs": [
    {
     "name": "stdout",
     "output_type": "stream",
     "text": [
      "the count of i is: 1\n",
      "the count of o is: 2\n"
     ]
    }
   ],
   "source": [
    "list=['h','i','h','o','w''y','o','u','!','!']\n",
    "print('the count of i is:',list.count('i'))\n",
    "print('the count of o is:',list.count('o'))"
   ]
  },
  {
   "cell_type": "code",
   "execution_count": 32,
   "id": "416a65ce",
   "metadata": {},
   "outputs": [
    {
     "name": "stdout",
     "output_type": "stream",
     "text": [
      "the count of('a,'b) is: 1\n",
      "the count of[3,4]is: 0\n"
     ]
    }
   ],
   "source": [
    "list=['a',('h','i'),('a','b'),[8,4]]\n",
    "count=list.count(('a','b'))\n",
    "print(\"the count of('a,'b) is:\",count)\n",
    "count=list.count([3,4])\n",
    "print(\"the count of[3,4]is:\",count)                  "
   ]
  },
  {
   "cell_type": "code",
   "execution_count": 33,
   "id": "c7574d07",
   "metadata": {},
   "outputs": [
    {
     "name": "stdout",
     "output_type": "stream",
     "text": [
      "original list: [5, 78, 12, 26, 50]\n",
      "updated list elements: [5, 78, 26, 50]\n"
     ]
    }
   ],
   "source": [
    "list=[5,78,12,26,50]\n",
    "print('original list:',list)\n",
    "list.remove(12)\n",
    "print('updated list elements:',list)"
   ]
  },
  {
   "cell_type": "code",
   "execution_count": 34,
   "id": "d5d3c238",
   "metadata": {},
   "outputs": [
    {
     "name": "stdout",
     "output_type": "stream",
     "text": [
      "old list: [1, 2, 4]\n",
      "new list: [1, 2, 4, 5]\n"
     ]
    }
   ],
   "source": [
    "list=[1,2,4]\n",
    "new_list=list[:]\n",
    "new_list.append(5)\n",
    "print('old list:',list)\n",
    "print('new list:',new_list)"
   ]
  },
  {
   "cell_type": "code",
   "execution_count": 35,
   "id": "cc7bff7c",
   "metadata": {},
   "outputs": [
    {
     "name": "stdout",
     "output_type": "stream",
     "text": [
      "new list: [1, 2, 3, 'a']\n",
      "old list: [1, 2, 3, 'a']\n"
     ]
    }
   ],
   "source": [
    "old_list=[1,2,3]\n",
    "new_list=old_list\n",
    "new_list.append('a')\n",
    "print('new list:',new_list)\n",
    "print('old list:',old_list)"
   ]
  },
  {
   "cell_type": "code",
   "execution_count": 36,
   "id": "0377746f",
   "metadata": {},
   "outputs": [
    {
     "name": "stdout",
     "output_type": "stream",
     "text": [
      "return value: c\n",
      "updated list: ['python', 'java', 'c++']\n",
      "return value: c++\n",
      "updated list: ['python', 'java']\n"
     ]
    }
   ],
   "source": [
    "language=['python','java','c++','c']\n",
    "print('return value:',language.pop())\n",
    "print('updated list:',language)\n",
    "print('return value:',language.pop(-1))\n",
    "print('updated list:',language)"
   ]
  },
  {
   "cell_type": "code",
   "execution_count": 37,
   "id": "f82ab864",
   "metadata": {},
   "outputs": [
    {
     "name": "stdout",
     "output_type": "stream",
     "text": [
      "old list= ['a', 'i', 'o', 'u']\n",
      "new list= ['a', 'e', 'i', 'o', 'u']\n"
     ]
    }
   ],
   "source": [
    "vowels=['a','i','o','u']\n",
    "print(\"old list=\",vowels)\n",
    "vowels.insert(1,'e')\n",
    "print(\"new list=\",vowels)"
   ]
  },
  {
   "cell_type": "code",
   "execution_count": 38,
   "id": "eb1291a1",
   "metadata": {},
   "outputs": [
    {
     "name": "stdout",
     "output_type": "stream",
     "text": [
      "Original list: [1, 15, 88, 6, 51, 55]\n",
      "sorted list: [1, 6, 15, 51, 55, 88]\n"
     ]
    }
   ],
   "source": [
    "list=[1,15,88,6,51,55]\n",
    "print('Original list:',list)\n",
    "list.sort()\n",
    "print('sorted list:',list)"
   ]
  },
  {
   "cell_type": "code",
   "execution_count": 39,
   "id": "49f97cc4",
   "metadata": {},
   "outputs": [
    {
     "name": "stdout",
     "output_type": "stream",
     "text": [
      "Original list: [1, 15, 88, 6, 51, 55]\n",
      "sorted list: [88, 55, 51, 15, 6, 1]\n"
     ]
    }
   ],
   "source": [
    "list=[1,15,88,6,51,55]\n",
    "print('Original list:',list)\n",
    "list.sort(reverse=True)\n",
    "print('sorted list:',list)\n"
   ]
  },
  {
   "cell_type": "code",
   "execution_count": 40,
   "id": "55044819",
   "metadata": {},
   "outputs": [
    {
     "name": "stdout",
     "output_type": "stream",
     "text": [
      "Original list: [1, 15, 88, 6, 51, 55]\n",
      "Reversed list: [55, 51, 6, 88, 15, 1]\n"
     ]
    }
   ],
   "source": [
    "list=[1,15,88,6,51,55]\n",
    "print('Original list:',list)\n",
    "reversed_list=list[::-1]\n",
    "print('Reversed list:',reversed_list)"
   ]
  },
  {
   "cell_type": "code",
   "execution_count": 41,
   "id": "d1739ebc",
   "metadata": {},
   "outputs": [
    {
     "name": "stdout",
     "output_type": "stream",
     "text": [
      "Original list: [1, 15, 88, 6, 51, 55]\n",
      "Reversed list: [55, 51, 6, 88, 15, 1]\n"
     ]
    }
   ],
   "source": [
    "list=[1,15,88,6,51,55]\n",
    "print('Original list:',list)\n",
    "list.reverse()\n",
    "print('Reversed list:',list)"
   ]
  },
  {
   "cell_type": "code",
   "execution_count": 1,
   "id": "18261d51",
   "metadata": {},
   "outputs": [
    {
     "name": "stdout",
     "output_type": "stream",
     "text": [
      "sum of all elements in a given list: 50\n"
     ]
    }
   ],
   "source": [
    "list=[5,10,15,20]\n",
    "Total=sum(list)\n",
    "print('sum of all elements in a given list:',Total)"
   ]
  },
  {
   "cell_type": "code",
   "execution_count": 2,
   "id": "5a8037c4",
   "metadata": {},
   "outputs": [
    {
     "name": "stdout",
     "output_type": "stream",
     "text": [
      "largest element in the given list: 20\n"
     ]
    }
   ],
   "source": [
    "list=[5,10,15,20]\n",
    "largest=max(list)\n",
    "print('largest element in the given list:',largest)"
   ]
  },
  {
   "cell_type": "code",
   "execution_count": 3,
   "id": "0cb71924",
   "metadata": {},
   "outputs": [
    {
     "name": "stdout",
     "output_type": "stream",
     "text": [
      "smallest element in the given list: 2\n"
     ]
    }
   ],
   "source": [
    "list=[2,45,26,67]\n",
    "smallest=min(list)\n",
    "print('smallest element in the given list:',smallest)                                         "
   ]
  },
  {
   "cell_type": "code",
   "execution_count": 4,
   "id": "756ea8d1",
   "metadata": {},
   "outputs": [
    {
     "name": "stdout",
     "output_type": "stream",
     "text": [
      "the list is empty\n"
     ]
    }
   ],
   "source": [
    "list=[]\n",
    "if not list:\n",
    "    print('the list is empty')\n",
    "else:\n",
    "    print('the list is not empty')    \n"
   ]
  },
  {
   "cell_type": "code",
   "execution_count": 5,
   "id": "93a44694",
   "metadata": {},
   "outputs": [
    {
     "name": "stdout",
     "output_type": "stream",
     "text": [
      "[24, 45, 65, 21]\n"
     ]
    }
   ],
   "source": [
    "list=[24,45,65,21]\n",
    "my_list=list.copy()\n",
    "print(my_list)"
   ]
  },
  {
   "cell_type": "code",
   "execution_count": 6,
   "id": "68531e4a",
   "metadata": {},
   "outputs": [
    {
     "name": "stdout",
     "output_type": "stream",
     "text": [
      "The count of 15 is: 2\n",
      "The count of 20 is: 3\n",
      "The count of 98 is: 6\n"
     ]
    }
   ],
   "source": [
    "list=['5','10','15','20','67','53','98']\n",
    "print('The count of 15 is:',list.index('15'))\n",
    "print('The count of 20 is:',list.index('20'))\n",
    "print('The count of 98 is:',list.index('98'))"
   ]
  },
  {
   "cell_type": "code",
   "execution_count": 7,
   "id": "98036a30",
   "metadata": {},
   "outputs": [
    {
     "name": "stdout",
     "output_type": "stream",
     "text": [
      "old list: ['hi', 'hello']\n",
      "Updated list: ['hi', 'hello', ['welcome', 'world', 'small']]\n"
     ]
    }
   ],
   "source": [
    "list=[\"hi\",\"hello\"]\n",
    "print('old list:',list)\n",
    "list1=['welcome','world','small']\n",
    "list.append(list1)\n",
    "print('Updated list:',list)"
   ]
  },
  {
   "cell_type": "code",
   "execution_count": null,
   "id": "375fc43f",
   "metadata": {},
   "outputs": [],
   "source": []
  }
 ],
 "metadata": {
  "kernelspec": {
   "display_name": "Python 3 (ipykernel)",
   "language": "python",
   "name": "python3"
  },
  "language_info": {
   "codemirror_mode": {
    "name": "ipython",
    "version": 3
   },
   "file_extension": ".py",
   "mimetype": "text/x-python",
   "name": "python",
   "nbconvert_exporter": "python",
   "pygments_lexer": "ipython3",
   "version": "3.9.7"
  }
 },
 "nbformat": 4,
 "nbformat_minor": 5
}
