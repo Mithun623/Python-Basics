{
 "cells": [
  {
   "cell_type": "code",
   "execution_count": 1,
   "id": "2d3be534",
   "metadata": {},
   "outputs": [
    {
     "name": "stdout",
     "output_type": "stream",
     "text": [
      "512\n"
     ]
    }
   ],
   "source": [
    "print(2**3**2)"
   ]
  },
  {
   "cell_type": "code",
   "execution_count": 2,
   "id": "3529a040",
   "metadata": {},
   "outputs": [
    {
     "name": "stdout",
     "output_type": "stream",
     "text": [
      "3.0\n"
     ]
    }
   ],
   "source": [
    "print(9 ** (1 / 2) )"
   ]
  },
  {
   "cell_type": "code",
   "execution_count": 3,
   "id": "79c572c5",
   "metadata": {},
   "outputs": [
    {
     "name": "stdout",
     "output_type": "stream",
     "text": [
      "2.0\n"
     ]
    }
   ],
   "source": [
    "print(8 ** (1 / 3))"
   ]
  },
  {
   "cell_type": "code",
   "execution_count": 4,
   "id": "f5f05e03",
   "metadata": {},
   "outputs": [
    {
     "data": {
      "text/plain": [
       "1"
      ]
     },
     "execution_count": 4,
     "metadata": {},
     "output_type": "execute_result"
    }
   ],
   "source": [
    "7 % (5 // 2)"
   ]
  },
  {
   "cell_type": "code",
   "execution_count": 5,
   "id": "5f412916",
   "metadata": {},
   "outputs": [
    {
     "name": "stdout",
     "output_type": "stream",
     "text": [
      "0.25\n",
      "3.0\n"
     ]
    }
   ],
   "source": [
    "print(1.25 % 0.5)\n",
    " \n",
    "print(4.2 // 1.4)"
   ]
  },
  {
   "cell_type": "code",
   "execution_count": 2,
   "id": "1d037023",
   "metadata": {},
   "outputs": [
    {
     "name": "stdout",
     "output_type": "stream",
     "text": [
      "10\n"
     ]
    }
   ],
   "source": [
    "x = [[2, 4, 6],[8, 6, 4]]\n",
    "print(x[0][2]+x[1][2])"
   ]
  },
  {
   "cell_type": "code",
   "execution_count": null,
   "id": "afd73508",
   "metadata": {},
   "outputs": [],
   "source": []
  }
 ],
 "metadata": {
  "kernelspec": {
   "display_name": "Python 3 (ipykernel)",
   "language": "python",
   "name": "python3"
  },
  "language_info": {
   "codemirror_mode": {
    "name": "ipython",
    "version": 3
   },
   "file_extension": ".py",
   "mimetype": "text/x-python",
   "name": "python",
   "nbconvert_exporter": "python",
   "pygments_lexer": "ipython3",
   "version": "3.9.7"
  }
 },
 "nbformat": 4,
 "nbformat_minor": 5
}
