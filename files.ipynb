{
 "cells": [
  {
   "cell_type": "code",
   "execution_count": 1,
   "id": "8ca261b1",
   "metadata": {},
   "outputs": [
    {
     "name": "stdout",
     "output_type": "stream",
     "text": [
      "my first file\n",
      "This file\n",
      "\n",
      "contains three lines\n",
      "\n"
     ]
    }
   ],
   "source": [
    "f=open(\"test.txt\")\n",
    "print(f.read())\n",
    "f.close()"
   ]
  },
  {
   "cell_type": "code",
   "execution_count": 7,
   "id": "554f23b0",
   "metadata": {},
   "outputs": [],
   "source": [
    "try:\n",
    "    f=open(\"test.txt\",encoding='utf=-8')\n",
    "finally:\n",
    "        f.close"
   ]
  },
  {
   "cell_type": "code",
   "execution_count": 3,
   "id": "f4acf008",
   "metadata": {},
   "outputs": [],
   "source": [
    "f=open(\"test.txt\",'w')"
   ]
  },
  {
   "cell_type": "code",
   "execution_count": 3,
   "id": "9a670de7",
   "metadata": {},
   "outputs": [],
   "source": [
    "f=open(\"test.txt\",'r+b')"
   ]
  },
  {
   "cell_type": "code",
   "execution_count": 2,
   "id": "a6e3953d",
   "metadata": {},
   "outputs": [],
   "source": [
    "f=open(\"test.txt\",mode='r',encoding='utf-8')"
   ]
  },
  {
   "cell_type": "code",
   "execution_count": 1,
   "id": "5a59c79a",
   "metadata": {},
   "outputs": [],
   "source": [
    "with open(\"test.txt\",'w',encoding='utf-8')as f:\n",
    "    f.write(\"my first file\\n\")\n",
    "    f.write(\"This file\\n\\n\")\n",
    "    f.write(\"contains three lines\\n\")"
   ]
  },
  {
   "cell_type": "code",
   "execution_count": 7,
   "id": "b0a2122c",
   "metadata": {},
   "outputs": [
    {
     "data": {
      "text/plain": [
       "''"
      ]
     },
     "execution_count": 7,
     "metadata": {},
     "output_type": "execute_result"
    }
   ],
   "source": [
    "f=open(\"test.txt\",'r',encoding='utf-8')\n",
    "f.read(4)\n",
    "'This'\n",
    "f.read()\n",
    "'is'\n",
    "f.read()\n",
    "'my first file\\nThis file\\ncontains three lines\\n'\n",
    "f.read()\n"
   ]
  },
  {
   "cell_type": "code",
   "execution_count": 8,
   "id": "3150574f",
   "metadata": {},
   "outputs": [
    {
     "name": "stdout",
     "output_type": "stream",
     "text": [
      "my first file\n",
      "This file\n",
      "\n",
      "contains three lines\n",
      "\n"
     ]
    }
   ],
   "source": [
    "f.tell()\n",
    "56\n",
    "f.seek(0)\n",
    "0\n",
    "print(f.read())"
   ]
  },
  {
   "cell_type": "code",
   "execution_count": 4,
   "id": "6ad83316",
   "metadata": {},
   "outputs": [
    {
     "name": "stdout",
     "output_type": "stream",
     "text": [
      "b'my first file\\r\\n'b'This file\\r\\n'b'\\r\\n'b'contains three lines\\r\\n'"
     ]
    }
   ],
   "source": [
    "for line in f:\n",
    "    print(line,end='')"
   ]
  },
  {
   "cell_type": "code",
   "execution_count": 12,
   "id": "062d79f4",
   "metadata": {},
   "outputs": [
    {
     "data": {
      "text/plain": [
       "''"
      ]
     },
     "execution_count": 12,
     "metadata": {},
     "output_type": "execute_result"
    }
   ],
   "source": [
    "f.readline()\n",
    "'This is my first file\\n'\n",
    "f.readline()\n",
    "'This file\\n'\n",
    "f.readline()\n",
    "'contains three lines\\n'\n",
    "f.readline()\n",
    "''"
   ]
  },
  {
   "cell_type": "code",
   "execution_count": 13,
   "id": "488d6477",
   "metadata": {},
   "outputs": [
    {
     "data": {
      "text/plain": [
       "['This is my first file\\n', 'This file\\n', 'contains three lines\\n']"
      ]
     },
     "execution_count": 13,
     "metadata": {},
     "output_type": "execute_result"
    }
   ],
   "source": [
    "f.readlines()\n",
    "['This is my first file\\n','This file\\n','contains three lines\\n']"
   ]
  },
  {
   "cell_type": "code",
   "execution_count": 15,
   "id": "9c809100",
   "metadata": {},
   "outputs": [
    {
     "data": {
      "text/plain": [
       "b'c:\\\\program files\\\\pyscripter'"
      ]
     },
     "execution_count": 15,
     "metadata": {},
     "output_type": "execute_result"
    }
   ],
   "source": [
    "import os\n",
    "os.getcwd()\n",
    "'c:\\\\program files\\\\pyscripter'\n",
    "os.getcwdb\n",
    "b'c:\\\\program files\\\\pyscripter'"
   ]
  },
  {
   "cell_type": "code",
   "execution_count": 17,
   "id": "f4e4a58c",
   "metadata": {},
   "outputs": [
    {
     "name": "stdout",
     "output_type": "stream",
     "text": [
      "C:\\Users\\MyLap\n"
     ]
    },
    {
     "data": {
      "text/plain": [
       "'c:\\\\Program files\\\\pyscripter'"
      ]
     },
     "execution_count": 17,
     "metadata": {},
     "output_type": "execute_result"
    }
   ],
   "source": [
    "print(os.getcwd())\n",
    "'c:\\Program files\\pyscripter'"
   ]
  },
  {
   "cell_type": "code",
   "execution_count": 9,
   "id": "b222a476",
   "metadata": {},
   "outputs": [
    {
     "name": "stdout",
     "output_type": "stream",
     "text": [
      "C:\\Users\\MyLap\n"
     ]
    }
   ],
   "source": [
    "import os\n",
    "os.chdir(r'C:\\Users\\MyLap')\n",
    "print(os.getcwd())"
   ]
  },
  {
   "cell_type": "code",
   "execution_count": 34,
   "id": "dcd3cf26",
   "metadata": {},
   "outputs": [
    {
     "name": "stdout",
     "output_type": "stream",
     "text": [
      "C:\\Users\\MyLap\n"
     ]
    }
   ],
   "source": [
    "print(os.getcwd())"
   ]
  },
  {
   "cell_type": "code",
   "execution_count": 36,
   "id": "1bb4f2c0",
   "metadata": {},
   "outputs": [
    {
     "data": {
      "text/plain": [
       "[' Task 1 Using String.ipynb',\n",
       " '.anaconda',\n",
       " '.conda',\n",
       " '.condarc',\n",
       " '.continuum',\n",
       " '.gitconfig',\n",
       " '.ipynb_checkpoints',\n",
       " '.ipython',\n",
       " '.jupyter',\n",
       " '.matplotlib',\n",
       " '.MCTranscodingSDK',\n",
       " '.spyder-py3',\n",
       " '3D Objects',\n",
       " 'anaconda3',\n",
       " 'AppData',\n",
       " 'Application Data',\n",
       " 'Contacts',\n",
       " 'Cookies',\n",
       " 'Desktop',\n",
       " 'Documents',\n",
       " 'Downloads',\n",
       " 'factorial.ipynb',\n",
       " 'Favorites',\n",
       " 'files.ipynb',\n",
       " 'function in python.ipynb',\n",
       " 'Jedi',\n",
       " 'Links',\n",
       " 'List functions.ipynb',\n",
       " 'Local Settings',\n",
       " 'MicrosoftEdgeBackups',\n",
       " 'Music',\n",
       " 'My Documents',\n",
       " 'NetHood',\n",
       " 'NTUSER.DAT',\n",
       " 'ntuser.dat.LOG1',\n",
       " 'ntuser.dat.LOG2',\n",
       " 'NTUSER.DAT{fd9a35db-49fe-11e9-aa2c-248a07783950}.TM.blf',\n",
       " 'NTUSER.DAT{fd9a35db-49fe-11e9-aa2c-248a07783950}.TMContainer00000000000000000001.regtrans-ms',\n",
       " 'NTUSER.DAT{fd9a35db-49fe-11e9-aa2c-248a07783950}.TMContainer00000000000000000002.regtrans-ms',\n",
       " 'ntuser.ini',\n",
       " 'OneDrive',\n",
       " 'Pictures',\n",
       " 'PrintHood',\n",
       " 'Python Excrcise problems.ipynb',\n",
       " 'Recent',\n",
       " 'Saved Games',\n",
       " 'Searches',\n",
       " 'SendTo',\n",
       " 'Set Functions.ipynb',\n",
       " 'Start Menu',\n",
       " 'string functions.ipynb',\n",
       " 'Task 2 Using List.ipynb',\n",
       " 'Task 3 Using Tuple.ipynb',\n",
       " 'Task 4 Using Set.ipynb',\n",
       " 'Task 5 python basic programmes.ipynb',\n",
       " 'Task 6 using function.ipynb',\n",
       " 'Task 7 using function.ipynb',\n",
       " 'Templates',\n",
       " 'test',\n",
       " 'test.txt',\n",
       " 'Tuple functions.ipynb',\n",
       " 'Untitled.ipynb',\n",
       " 'Videos']"
      ]
     },
     "execution_count": 36,
     "metadata": {},
     "output_type": "execute_result"
    }
   ],
   "source": [
    "os.mkdir('test')\n",
    "os.listdir()"
   ]
  },
  {
   "cell_type": "code",
   "execution_count": null,
   "id": "07c2685c",
   "metadata": {},
   "outputs": [],
   "source": []
  }
 ],
 "metadata": {
  "kernelspec": {
   "display_name": "Python 3 (ipykernel)",
   "language": "python",
   "name": "python3"
  },
  "language_info": {
   "codemirror_mode": {
    "name": "ipython",
    "version": 3
   },
   "file_extension": ".py",
   "mimetype": "text/x-python",
   "name": "python",
   "nbconvert_exporter": "python",
   "pygments_lexer": "ipython3",
   "version": "3.9.7"
  }
 },
 "nbformat": 4,
 "nbformat_minor": 5
}
