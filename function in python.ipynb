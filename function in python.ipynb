{
 "cells": [
  {
   "cell_type": "code",
   "execution_count": 1,
   "id": "28db6037",
   "metadata": {},
   "outputs": [
    {
     "name": "stdout",
     "output_type": "stream",
     "text": [
      "Hello,Paul.Good morning!\n"
     ]
    }
   ],
   "source": [
    "def greet(name):\n",
    "    \"\"\"\"this function greets to the person passed in as a parameter\"\"\"\n",
    "    print(\"Hello,\"+name+\".Good morning!\")\n",
    "greet('Paul')"
   ]
  },
  {
   "cell_type": "code",
   "execution_count": 2,
   "id": "7a476840",
   "metadata": {},
   "outputs": [
    {
     "name": "stdout",
     "output_type": "stream",
     "text": [
      "2\n",
      "4\n"
     ]
    }
   ],
   "source": [
    "def absolute_value(num):\n",
    "    \"\"\"\"This function returns the absolute value of the entered number\"\"\"\n",
    "    if num>=0:\n",
    "        return num\n",
    "    else:\n",
    "        return -num\n",
    "print(absolute_value(2))\n",
    "print(absolute_value(-4))"
   ]
  },
  {
   "cell_type": "code",
   "execution_count": 3,
   "id": "ee0119ad",
   "metadata": {},
   "outputs": [
    {
     "name": "stdout",
     "output_type": "stream",
     "text": [
      "Hello,May.Good morning!\n"
     ]
    }
   ],
   "source": [
    "greet('May')\n"
   ]
  },
  {
   "cell_type": "code",
   "execution_count": 4,
   "id": "4295156b",
   "metadata": {},
   "outputs": [
    {
     "name": "stdout",
     "output_type": "stream",
     "text": [
      "value inside function: 10\n",
      "Value outside the function: 20\n"
     ]
    }
   ],
   "source": [
    "def my_func():\n",
    "    x=10\n",
    "    print(\"value inside function:\",x)\n",
    "x=20\n",
    "my_func()\n",
    "print(\"Value outside the function:\",x)\n"
   ]
  },
  {
   "cell_type": "code",
   "execution_count": 5,
   "id": "4b77be44",
   "metadata": {},
   "outputs": [
    {
     "name": "stdout",
     "output_type": "stream",
     "text": [
      "The sum is 11\n"
     ]
    }
   ],
   "source": [
    "def add_numbers(x,y):\n",
    "    sum=x+y\n",
    "    return sum\n",
    "num1=5\n",
    "num2=6\n",
    "print(\"The sum is\",add_numbers(num1,num2))"
   ]
  },
  {
   "cell_type": "code",
   "execution_count": 6,
   "id": "c4cb6a0d",
   "metadata": {},
   "outputs": [
    {
     "name": "stdout",
     "output_type": "stream",
     "text": [
      "Hello kate,good morning!\n",
      "Hello Bruce,How do you do?\n"
     ]
    }
   ],
   "source": [
    "def greet(name,msg=\"good morning!\"):\n",
    "    \"\"\"this function greets to the person with the provided message.if the message is not provided,it defaults to \"Good morning!\"\"\"\n",
    "    print(\"Hello\",name+','+msg)\n",
    "greet(\"kate\")\n",
    "greet(\"Bruce\",\"How do you do?\")    "
   ]
  },
  {
   "cell_type": "code",
   "execution_count": 7,
   "id": "bdb3eb4c",
   "metadata": {},
   "outputs": [
    {
     "name": "stdout",
     "output_type": "stream",
     "text": [
      "Hello Monica,Good Morning!\n"
     ]
    }
   ],
   "source": [
    "def greet(name,msg):\n",
    "    \"\"\"This function greets to the person with the provided message\"\"\"\n",
    "    print(\"Hello\",name+','+msg)\n",
    "greet(\"Monica\",\"Good Morning!\")    "
   ]
  },
  {
   "cell_type": "code",
   "execution_count": 8,
   "id": "e4fa03ff",
   "metadata": {},
   "outputs": [],
   "source": [
    "def factorial(x):\n",
    "    \"\"\"This is a recursive function to find the factorial of an integer\"\"\"\n",
    "    if x==1:\n",
    "        return 1\n",
    "    else:\n",
    "        return(x*factorial(x-1))\n",
    "    num=3\n",
    "    print(\"The factorial of\",num,\"is\".factorial(num))"
   ]
  },
  {
   "cell_type": "code",
   "execution_count": 9,
   "id": "e39b0034",
   "metadata": {},
   "outputs": [
    {
     "name": "stdout",
     "output_type": "stream",
     "text": [
      "10\n"
     ]
    }
   ],
   "source": [
    "double=lambda x:x*2\n",
    "print(double(5))"
   ]
  },
  {
   "cell_type": "code",
   "execution_count": 10,
   "id": "e588e88e",
   "metadata": {},
   "outputs": [
    {
     "name": "stdout",
     "output_type": "stream",
     "text": [
      "[4, 6, 8, 12]\n"
     ]
    }
   ],
   "source": [
    "my_list=[1,5,4,6,8,11,13,12]\n",
    "new_list=list(filter(lambda x:(x%2==0),my_list))\n",
    "print(new_list)"
   ]
  },
  {
   "cell_type": "code",
   "execution_count": 12,
   "id": "0db08312",
   "metadata": {},
   "outputs": [
    {
     "name": "stdout",
     "output_type": "stream",
     "text": [
      "[2, 10, 8, 12, 16, 22, 26, 24]\n"
     ]
    }
   ],
   "source": [
    "my_list=[1,5,4,6,8,11,13,12]\n",
    "new_list=list(map(lambda x:x*2, my_list))\n",
    "print(new_list)"
   ]
  },
  {
   "cell_type": "code",
   "execution_count": 1,
   "id": "72e14e69",
   "metadata": {},
   "outputs": [
    {
     "name": "stdout",
     "output_type": "stream",
     "text": [
      "x inside: global\n",
      "x outside: global\n"
     ]
    }
   ],
   "source": [
    "x=\"global\"\n",
    "def foo():\n",
    "    print(\"x inside:\",x)\n",
    "foo()\n",
    "print(\"x outside:\",x)"
   ]
  },
  {
   "cell_type": "code",
   "execution_count": 2,
   "id": "9edfe1b8",
   "metadata": {},
   "outputs": [
    {
     "name": "stdout",
     "output_type": "stream",
     "text": [
      "inside add(): 2\n",
      "in main: 2\n"
     ]
    }
   ],
   "source": [
    "c=0\n",
    "def add():\n",
    "    global c\n",
    "    c=c+2\n",
    "    print(\"inside add():\",c)\n",
    "add()\n",
    "print(\"in main:\",c)"
   ]
  },
  {
   "cell_type": "code",
   "execution_count": 4,
   "id": "9bd7e565",
   "metadata": {},
   "outputs": [
    {
     "name": "stdout",
     "output_type": "stream",
     "text": [
      "local\n"
     ]
    }
   ],
   "source": [
    "def foo():\n",
    "    y=\"local\"\n",
    "    print(y)\n",
    "foo()"
   ]
  },
  {
   "cell_type": "code",
   "execution_count": 5,
   "id": "bbd310f2",
   "metadata": {},
   "outputs": [
    {
     "name": "stdout",
     "output_type": "stream",
     "text": [
      "globalglobal\n",
      "local\n"
     ]
    }
   ],
   "source": [
    "x=\"global\"\n",
    "def foo():\n",
    "    global x\n",
    "    y=\"local\"\n",
    "    x=x*2\n",
    "    print(x)\n",
    "    print(y)\n",
    "foo()"
   ]
  },
  {
   "cell_type": "code",
   "execution_count": 6,
   "id": "cb396c0e",
   "metadata": {},
   "outputs": [
    {
     "name": "stdout",
     "output_type": "stream",
     "text": [
      "local x: 10\n",
      "global x: 5\n"
     ]
    }
   ],
   "source": [
    "x=5\n",
    "def foo():\n",
    "    x=10\n",
    "    print(\"local x:\",x)\n",
    "foo()\n",
    "print(\"global x:\",x)"
   ]
  },
  {
   "cell_type": "code",
   "execution_count": 10,
   "id": "7681ed16",
   "metadata": {},
   "outputs": [
    {
     "name": "stdout",
     "output_type": "stream",
     "text": [
      "The value of pi is 3.141592653589793\n"
     ]
    }
   ],
   "source": [
    "import math\n",
    "print(\"The value of pi is\",math.pi)"
   ]
  },
  {
   "cell_type": "code",
   "execution_count": 11,
   "id": "517f1d5d",
   "metadata": {},
   "outputs": [
    {
     "name": "stdout",
     "output_type": "stream",
     "text": [
      "The value of pi is  3.141592653589793\n"
     ]
    }
   ],
   "source": [
    "import math as m\n",
    "print(\"The value of pi is \",m.pi)"
   ]
  },
  {
   "cell_type": "code",
   "execution_count": 12,
   "id": "82785c31",
   "metadata": {},
   "outputs": [
    {
     "name": "stdout",
     "output_type": "stream",
     "text": [
      "The value of pi is 3.141592653589793\n"
     ]
    }
   ],
   "source": [
    "from math import pi\n",
    "print(\"The value of pi is\",pi)"
   ]
  },
  {
   "cell_type": "code",
   "execution_count": 13,
   "id": "c865f306",
   "metadata": {},
   "outputs": [
    {
     "name": "stdout",
     "output_type": "stream",
     "text": [
      "The value of pi is 3.141592653589793\n"
     ]
    }
   ],
   "source": [
    "from math import *\n",
    "print(\"The value of pi is\",pi)"
   ]
  },
  {
   "cell_type": "code",
   "execution_count": null,
   "id": "0f744a00",
   "metadata": {},
   "outputs": [],
   "source": []
  }
 ],
 "metadata": {
  "kernelspec": {
   "display_name": "Python 3 (ipykernel)",
   "language": "python",
   "name": "python3"
  },
  "language_info": {
   "codemirror_mode": {
    "name": "ipython",
    "version": 3
   },
   "file_extension": ".py",
   "mimetype": "text/x-python",
   "name": "python",
   "nbconvert_exporter": "python",
   "pygments_lexer": "ipython3",
   "version": "3.9.7"
  }
 },
 "nbformat": 4,
 "nbformat_minor": 5
}
