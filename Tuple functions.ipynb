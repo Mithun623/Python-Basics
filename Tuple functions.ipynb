{
 "cells": [
  {
   "cell_type": "code",
   "execution_count": 1,
   "id": "c5341fba",
   "metadata": {},
   "outputs": [
    {
     "name": "stdout",
     "output_type": "stream",
     "text": [
      "20\n"
     ]
    }
   ],
   "source": [
    "T=(20)\n",
    "print(T)"
   ]
  },
  {
   "cell_type": "code",
   "execution_count": 2,
   "id": "25e0aa3f",
   "metadata": {},
   "outputs": [
    {
     "name": "stdout",
     "output_type": "stream",
     "text": [
      "(5,)\n"
     ]
    }
   ],
   "source": [
    "T=5,\n",
    "print(T)\n"
   ]
  },
  {
   "cell_type": "code",
   "execution_count": 3,
   "id": "c51fe104",
   "metadata": {},
   "outputs": [
    {
     "name": "stdout",
     "output_type": "stream",
     "text": [
      "(100,)\n"
     ]
    }
   ],
   "source": [
    "T=(100,)\n",
    "print(T)"
   ]
  },
  {
   "cell_type": "code",
   "execution_count": 4,
   "id": "675355a6",
   "metadata": {},
   "outputs": [
    {
     "data": {
      "text/plain": [
       "5"
      ]
     },
     "execution_count": 4,
     "metadata": {},
     "output_type": "execute_result"
    }
   ],
   "source": [
    "T1=(10,20,30,(40,50,60),100)\n",
    "len(T1)"
   ]
  },
  {
   "cell_type": "code",
   "execution_count": 5,
   "id": "7c655b26",
   "metadata": {},
   "outputs": [
    {
     "data": {
      "text/plain": [
       "20"
      ]
     },
     "execution_count": 5,
     "metadata": {},
     "output_type": "execute_result"
    }
   ],
   "source": [
    "T1=(10,20,30,(40,50,60),100)\n",
    "T1[1]"
   ]
  },
  {
   "cell_type": "code",
   "execution_count": 6,
   "id": "b49a5c48",
   "metadata": {},
   "outputs": [
    {
     "data": {
      "text/plain": [
       "50"
      ]
     },
     "execution_count": 6,
     "metadata": {},
     "output_type": "execute_result"
    }
   ],
   "source": [
    "T1=(10,20,30,(40,50,60),100)\n",
    "T1[3][1]"
   ]
  },
  {
   "cell_type": "code",
   "execution_count": 7,
   "id": "13677aa0",
   "metadata": {},
   "outputs": [
    {
     "name": "stdout",
     "output_type": "stream",
     "text": [
      "('p', 'y', 't', 'h', 'o', 'n')\n"
     ]
    }
   ],
   "source": [
    "T=tuple('python')\n",
    "print(T)"
   ]
  },
  {
   "cell_type": "code",
   "execution_count": 8,
   "id": "ab084180",
   "metadata": {},
   "outputs": [
    {
     "name": "stdout",
     "output_type": "stream",
     "text": [
      "(100, 200, 300, 400)\n"
     ]
    }
   ],
   "source": [
    "items=[100,200,300,400]\n",
    "T2=tuple(items)\n",
    "print(T2)"
   ]
  },
  {
   "cell_type": "code",
   "execution_count": 10,
   "id": "119c8ad1",
   "metadata": {},
   "outputs": [
    {
     "name": "stdout",
     "output_type": "stream",
     "text": [
      "enter elementsabcd\n",
      "('a', 'b', 'c', 'd')\n"
     ]
    }
   ],
   "source": [
    "t1=tuple(input('enter elements'))\n",
    "print(t1)"
   ]
  },
  {
   "cell_type": "code",
   "execution_count": 14,
   "id": "6ab58416",
   "metadata": {},
   "outputs": [
    {
     "name": "stdout",
     "output_type": "stream",
     "text": [
      "enter tuple elements(10,'ravi',10.5)\n",
      "(10, 'ravi', 10.5)\n"
     ]
    }
   ],
   "source": [
    "mytuple=eval(input(\"enter tuple elements\"))\n",
    "print(mytuple)"
   ]
  },
  {
   "cell_type": "code",
   "execution_count": 15,
   "id": "90cf4f4d",
   "metadata": {},
   "outputs": [
    {
     "name": "stdout",
     "output_type": "stream",
     "text": [
      "B.A\n",
      "M.A\n",
      "B.Sc\n",
      "M.Sc\n",
      "MCA\n",
      "M.Com\n",
      "B.Tech\n"
     ]
    }
   ],
   "source": [
    "qualifications=(\"B.A\",\"M.A\",\"B.Sc\",\"M.Sc\",\"MCA\",\"M.Com\",\"B.Tech\")\n",
    "for q in qualifications:\n",
    "    print(q)"
   ]
  },
  {
   "cell_type": "code",
   "execution_count": 16,
   "id": "7af1269c",
   "metadata": {},
   "outputs": [
    {
     "name": "stdout",
     "output_type": "stream",
     "text": [
      "(10, 20, 30, 'a', 'b', 'c')\n"
     ]
    }
   ],
   "source": [
    "t1=(10,20,30)\n",
    "t2=('a','b','c')\n",
    "t3=t1+t2\n",
    "print(t3)"
   ]
  },
  {
   "cell_type": "code",
   "execution_count": 17,
   "id": "a970b389",
   "metadata": {},
   "outputs": [
    {
     "data": {
      "text/plain": [
       "(10, 20, 30, 50)"
      ]
     },
     "execution_count": 17,
     "metadata": {},
     "output_type": "execute_result"
    }
   ],
   "source": [
    "t1=(10,20,30)\n",
    "t1+(50,)"
   ]
  },
  {
   "cell_type": "code",
   "execution_count": 18,
   "id": "70816ac2",
   "metadata": {},
   "outputs": [
    {
     "data": {
      "text/plain": [
       "('do', 'it', 'do', 'it', 'do', 'it')"
      ]
     },
     "execution_count": 18,
     "metadata": {},
     "output_type": "execute_result"
    }
   ],
   "source": [
    "t1=(\"do\",\"it\")\n",
    "t1*3"
   ]
  },
  {
   "cell_type": "code",
   "execution_count": 20,
   "id": "587dea59",
   "metadata": {},
   "outputs": [
    {
     "name": "stdout",
     "output_type": "stream",
     "text": [
      "(7, 9)\n",
      "(20, 30, 1, 7, 9)\n",
      "(7, 9, 100, 51)\n",
      "(80, 75, 51, 100, 9, 7, 1, 30, 20, 10)\n",
      "(80, 51, 9, 1, 20)\n",
      "(30, 7, 100, 75)\n"
     ]
    }
   ],
   "source": [
    "data=(10,20,30,1,7,9,100,51,75,80)\n",
    "data2=data[4:-4]\n",
    "print(data2)\n",
    "print(data[1:6])\n",
    "print(data[4:-2])\n",
    "print(data[::-1])\n",
    "print(data[::-2])\n",
    "print(data[2:10:2])"
   ]
  },
  {
   "cell_type": "code",
   "execution_count": 21,
   "id": "f9ff506f",
   "metadata": {},
   "outputs": [
    {
     "data": {
      "text/plain": [
       "(15, 20, 8, 500, 1000)"
      ]
     },
     "execution_count": 21,
     "metadata": {},
     "output_type": "execute_result"
    }
   ],
   "source": [
    "tp1=(11,12,15,20,8,9,10)\n",
    "seq1=tp1[::2]\n",
    "seq1=tp1[5::2]\n",
    "(15,20,8,15,20,8,15,20,8)\n",
    "tp1[2:5]+(500,1000)\n"
   ]
  },
  {
   "cell_type": "code",
   "execution_count": 22,
   "id": "7da57032",
   "metadata": {},
   "outputs": [
    {
     "data": {
      "text/plain": [
       "True"
      ]
     },
     "execution_count": 22,
     "metadata": {},
     "output_type": "execute_result"
    }
   ],
   "source": [
    "a=(10,20)\n",
    "b=(10,20)\n",
    "c=(20,10)\n",
    "a==b"
   ]
  },
  {
   "cell_type": "code",
   "execution_count": 23,
   "id": "2da5af5d",
   "metadata": {},
   "outputs": [
    {
     "data": {
      "text/plain": [
       "False"
      ]
     },
     "execution_count": 23,
     "metadata": {},
     "output_type": "execute_result"
    }
   ],
   "source": [
    "a=(10,20)\n",
    "b=(10,20)\n",
    "c=(20,10)\n",
    "a==c"
   ]
  },
  {
   "cell_type": "code",
   "execution_count": 24,
   "id": "730f0bbb",
   "metadata": {},
   "outputs": [
    {
     "data": {
      "text/plain": [
       "True"
      ]
     },
     "execution_count": 24,
     "metadata": {},
     "output_type": "execute_result"
    }
   ],
   "source": [
    "a=(10,20)\n",
    "b=(10,20)\n",
    "c=(20,10)\n",
    "d=(20.0,10.0)\n",
    "c==d"
   ]
  },
  {
   "cell_type": "code",
   "execution_count": 25,
   "id": "e0f7e668",
   "metadata": {},
   "outputs": [
    {
     "data": {
      "text/plain": [
       "True"
      ]
     },
     "execution_count": 25,
     "metadata": {},
     "output_type": "execute_result"
    }
   ],
   "source": [
    "a=(10,20)\n",
    "b=(10,20)\n",
    "c=(20,10)\n",
    "a<c"
   ]
  },
  {
   "cell_type": "code",
   "execution_count": 26,
   "id": "0c401302",
   "metadata": {},
   "outputs": [
    {
     "name": "stdout",
     "output_type": "stream",
     "text": [
      "(10, 20, 30)\n"
     ]
    }
   ],
   "source": [
    "t1=(10,20,30)\n",
    "print(t1)"
   ]
  },
  {
   "cell_type": "code",
   "execution_count": 27,
   "id": "4bfd2a0b",
   "metadata": {},
   "outputs": [
    {
     "name": "stdout",
     "output_type": "stream",
     "text": [
      "(10, 20, 30)\n"
     ]
    }
   ],
   "source": [
    "t1=(10,20,30)\n",
    "print(t1)\n",
    "del t1"
   ]
  },
  {
   "cell_type": "code",
   "execution_count": 28,
   "id": "54eac493",
   "metadata": {},
   "outputs": [
    {
     "data": {
      "text/plain": [
       "4"
      ]
     },
     "execution_count": 28,
     "metadata": {},
     "output_type": "execute_result"
    }
   ],
   "source": [
    "book=('B001','Let us python','DP',500)\n",
    "len(book)"
   ]
  },
  {
   "cell_type": "code",
   "execution_count": 29,
   "id": "b51f18cb",
   "metadata": {},
   "outputs": [
    {
     "data": {
      "text/plain": [
       "1500"
      ]
     },
     "execution_count": 29,
     "metadata": {},
     "output_type": "execute_result"
    }
   ],
   "source": [
    "salary=(1000,1500,800,700,1200)\n",
    "max(salary)"
   ]
  },
  {
   "cell_type": "code",
   "execution_count": 30,
   "id": "5abced83",
   "metadata": {},
   "outputs": [
    {
     "data": {
      "text/plain": [
       "'pine apple'"
      ]
     },
     "execution_count": 30,
     "metadata": {},
     "output_type": "execute_result"
    }
   ],
   "source": [
    "fruits=('mango','pine apple','apple','carrot')\n",
    "max(fruits)"
   ]
  },
  {
   "cell_type": "code",
   "execution_count": 31,
   "id": "35263364",
   "metadata": {},
   "outputs": [
    {
     "data": {
      "text/plain": [
       "700"
      ]
     },
     "execution_count": 31,
     "metadata": {},
     "output_type": "execute_result"
    }
   ],
   "source": [
    "salary=(1000,1500,800,700,1200)\n",
    "min(salary)"
   ]
  },
  {
   "cell_type": "code",
   "execution_count": 32,
   "id": "1a5884bd",
   "metadata": {},
   "outputs": [
    {
     "data": {
      "text/plain": [
       "'apple'"
      ]
     },
     "execution_count": 32,
     "metadata": {},
     "output_type": "execute_result"
    }
   ],
   "source": [
    "fruits=('mango','pine apple','apple','carrot')\n",
    "min(fruits)"
   ]
  },
  {
   "cell_type": "code",
   "execution_count": 33,
   "id": "ac985ed0",
   "metadata": {},
   "outputs": [
    {
     "data": {
      "text/plain": [
       "2"
      ]
     },
     "execution_count": 33,
     "metadata": {},
     "output_type": "execute_result"
    }
   ],
   "source": [
    "salary.index(800)"
   ]
  },
  {
   "cell_type": "code",
   "execution_count": 37,
   "id": "bb77e894",
   "metadata": {},
   "outputs": [
    {
     "data": {
      "text/plain": [
       "3"
      ]
     },
     "execution_count": 37,
     "metadata": {},
     "output_type": "execute_result"
    }
   ],
   "source": [
    "val=(10,20,30,20,10,60,80,20)\n",
    "val.count(20)\n"
   ]
  },
  {
   "cell_type": "code",
   "execution_count": 38,
   "id": "7d52c428",
   "metadata": {},
   "outputs": [
    {
     "data": {
      "text/plain": [
       "1"
      ]
     },
     "execution_count": 38,
     "metadata": {},
     "output_type": "execute_result"
    }
   ],
   "source": [
    "val=(10,20,30,20,10,60,80,20)\n",
    "val.count(80)"
   ]
  },
  {
   "cell_type": "code",
   "execution_count": 39,
   "id": "ba3e8e74",
   "metadata": {},
   "outputs": [
    {
     "data": {
      "text/plain": [
       "0"
      ]
     },
     "execution_count": 39,
     "metadata": {},
     "output_type": "execute_result"
    }
   ],
   "source": [
    "val=(10,20,30,20,10,60,80,20)\n",
    "val.count(100)"
   ]
  },
  {
   "cell_type": "code",
   "execution_count": 40,
   "id": "a978ea5d",
   "metadata": {},
   "outputs": [
    {
     "data": {
      "text/plain": [
       "(10, 30, 30)"
      ]
     },
     "execution_count": 40,
     "metadata": {},
     "output_type": "execute_result"
    }
   ],
   "source": [
    "val=(10,20,30)\n",
    "a,b,c=val\n",
    "b=30\n",
    "val=(a,b,c)\n",
    "val"
   ]
  },
  {
   "cell_type": "code",
   "execution_count": 41,
   "id": "ad7ca966",
   "metadata": {},
   "outputs": [
    {
     "name": "stdout",
     "output_type": "stream",
     "text": [
      "('rice', 'dosa', 'biriyani', 'mushroom', 'paneer')\n"
     ]
    }
   ],
   "source": [
    "foods=('rice','dosa','idli','mushroom','paneer')\n",
    "myfood=list(foods)\n",
    "myfood[2]='biriyani'\n",
    "foods=tuple(myfood)\n",
    "print(foods)"
   ]
  },
  {
   "cell_type": "code",
   "execution_count": null,
   "id": "53cd5411",
   "metadata": {},
   "outputs": [],
   "source": []
  }
 ],
 "metadata": {
  "kernelspec": {
   "display_name": "Python 3 (ipykernel)",
   "language": "python",
   "name": "python3"
  },
  "language_info": {
   "codemirror_mode": {
    "name": "ipython",
    "version": 3
   },
   "file_extension": ".py",
   "mimetype": "text/x-python",
   "name": "python",
   "nbconvert_exporter": "python",
   "pygments_lexer": "ipython3",
   "version": "3.9.7"
  }
 },
 "nbformat": 4,
 "nbformat_minor": 5
}
